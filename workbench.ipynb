{
 "cells": [
  {
   "cell_type": "code",
   "execution_count": 1,
   "metadata": {
    "collapsed": true
   },
   "outputs": [],
   "source": [
    "#i am a monitor notebook used to prototype on the fly >.<\n",
    "#i should be replaced with a proper dashboard,srsly.\n",
    "#right now i show some logs of mastering pong with a2c"
   ]
  },
  {
   "cell_type": "markdown",
   "metadata": {},
   "source": [
    "### Run stuff"
   ]
  },
  {
   "cell_type": "code",
   "execution_count": 1,
   "metadata": {
    "collapsed": false
   },
   "outputs": [
    {
     "name": "stdout",
     "output_type": "stream",
     "text": [
      "Starting job # 0 in a separate thread.\n"
     ]
    }
   ],
   "source": [
    "%%bash --bg\n",
    "#create several player processes. Each process plays games and saves results\n",
    "#the loop below spawns 10 players. If you are doing this on a laptop, reducing to 2-4 is okay\n",
    "for i in `seq 1 10`; \n",
    "do\n",
    "        THEANO_FLAGS=device=cpu,floatX=float32 python tinyverse atari.py play -b 3 &\n",
    "done  "
   ]
  },
  {
   "cell_type": "code",
   "execution_count": 2,
   "metadata": {
    "collapsed": false,
    "scrolled": true
   },
   "outputs": [
    {
     "name": "stdout",
     "output_type": "stream",
     "text": [
      "Episode finished after 125 timesteps with reward=0.0\n",
      "Episode finished after 124 timesteps with reward=0.0\n",
      "Episode finished after 246 timesteps with reward=3.0\n",
      "Episode finished after 155 timesteps with reward=1.0\n",
      "Episode finished after 172 timesteps with reward=1.0\n"
     ]
    },
    {
     "name": "stderr",
     "output_type": "stream",
     "text": [
      "tinyverse/database.py:150: UserWarning: Params not found under key 'weights' (got None)\n",
      "  warn(str(exc))\n",
      "[2017-01-16 20:31:02,464] Making new env: BreakoutDeterministic-v0\n",
      "[2017-01-16 20:31:02,517] Clearing 6 monitor files from previous run (because force=True was provided)\n",
      "[2017-01-16 20:31:02,530] Starting new video recorder writing to /home/hedgedir/tinyversers/ezheverse/records/openaigym.video.0.22324.video000000.mp4\n",
      "[2017-01-16 20:31:03,633] Starting new video recorder writing to /home/hedgedir/tinyversers/ezheverse/records/openaigym.video.0.22324.video000001.mp4\n",
      "[2017-01-16 20:31:09,093] Finished writing results. You can upload them to the scoreboard via gym.upload('/home/hedgedir/tinyversers/ezheverse/records')\n"
     ]
    }
   ],
   "source": [
    "%%bash\n",
    "#play 5 games, show results\n",
    "python tinyverse atari.py eval -n 5"
   ]
  },
  {
   "cell_type": "code",
   "execution_count": 3,
   "metadata": {
    "collapsed": false
   },
   "outputs": [
    {
     "name": "stdout",
     "output_type": "stream",
     "text": [
      "Starting job # 2 in a separate thread.\n"
     ]
    }
   ],
   "source": [
    "%%bash --bg\n",
    "#create learner process on GPU. batch size 10\n",
    "THEANO_FLAGS=device=gpu,floatX=float32 python tinyverse atari.py train -b 10 &"
   ]
  },
  {
   "cell_type": "markdown",
   "metadata": {},
   "source": [
    "### View stuff"
   ]
  },
  {
   "cell_type": "code",
   "execution_count": 2,
   "metadata": {
    "collapsed": false
   },
   "outputs": [],
   "source": [
    "import numpy as np\n",
    "from matplotlib import pyplot as plt\n",
    "%matplotlib inline\n",
    "import theano\n",
    "import theano.tensor as T\n",
    "import pickle\n"
   ]
  },
  {
   "cell_type": "code",
   "execution_count": 3,
   "metadata": {
    "collapsed": false
   },
   "outputs": [
    {
     "name": "stderr",
     "output_type": "stream",
     "text": [
      "/home/hedgedir/agentnet/agentnet/agent/recurrence.py:595: UserWarning: Warning: recurrent loop without unroll_scan got nonempty random state updates list. That happened because there is some source of randomness (e.g. dropout) inside recurrent step graph. To compile such graph, one must either call .get_automatic_updates() right after .get_output and pass these updates to a function, or use no_defalt_updates=True when compiling theano.function.\n",
      "  warn(\"Warning: recurrent loop without unroll_scan got nonempty random state updates list. That happened\"\n",
      "WARNING (theano.tensor.blas): We did not found a dynamic library into the library_dir of the library we use for blas. If you use ATLAS, make sure to compile it with dynamics library.\n",
      "[2017-01-17 07:39:42,515] We did not found a dynamic library into the library_dir of the library we use for blas. If you use ATLAS, make sure to compile it with dynamics library.\n"
     ]
    }
   ],
   "source": [
    "import atari\n",
    "from tinyverse.database import Database\n",
    "from agentnet.environment.session_batch import SessionBatchEnvironment\n",
    "\n",
    "\n",
    "db = Database()\n",
    "self=experiment=atari.make_experiment(db)\n",
    "agent = self.agent\n",
    "\n",
    "\n",
    "observation_shape=(1, 64, 64)  # same as env.observation_space.shape\n",
    "sequence_length=25  # how many steps to make before updating weights\n",
    "\n",
    "#make replay environment\n",
    "observations = T.tensor(theano.config.floatX,broadcastable=(False,)*(2+len(observation_shape)),\n",
    "                        name=\"observations[b,t,color,width,height]\")\n",
    "actions = T.imatrix(\"actions[b,t]\")\n",
    "rewards,is_alive = T.matrices(\"rewards[b,t]\",\"is_alive[b,t]\")\n",
    "prev_memory = [l.input_var for l in agent.agent_states.values()]\n",
    "\n",
    "\n",
    "\n",
    "replay = SessionBatchEnvironment(observations,\n",
    "                                 [observation_shape],\n",
    "                                 actions=actions,\n",
    "                                 rewards=rewards,\n",
    "                                 is_alive=is_alive,\n",
    "                                 preceding_agent_memories=prev_memory\n",
    "                                )\n",
    "\n",
    "#replay sessions\n",
    "_, _, h_seq, _, (logits_seq, V_seq) = agent.get_sessions(\n",
    "    replay,\n",
    "    session_length=sequence_length,\n",
    "    experience_replay=True,\n",
    "    unroll_scan=False,#speeds up compilation my 10x, slows down training by 20% (still faster than TF :P )\n",
    ")\n",
    "rng_updates = agent.get_automatic_updates()\n",
    "\n",
    "# compute pi(a|s) and log(pi(a|s)) manually [use logsoftmax]\n",
    "# we can't guarantee that theano optimizes logsoftmax automatically since it's still in dev\n",
    "logits_flat = logits_seq.reshape([-1,logits_seq.shape[-1]])\n",
    "policy_seq = T.nnet.softmax(logits_flat).reshape(logits_seq.shape)\n",
    "logpolicy_seq = T.nnet.logsoftmax(logits_flat).reshape(logits_seq.shape)\n",
    "\n",
    "#####################\n",
    "import lasagne\n",
    "from agentnet.learning import a2c\n",
    "# get policy gradient\n",
    "elwise_actor_loss,elwise_critic_loss = a2c.get_elementwise_objective(policy=logpolicy_seq,\n",
    "                                                                     treat_policy_as_logpolicy=True,\n",
    "                                                                     state_values=V_seq[:,:,0],\n",
    "                                                                     actions=replay.actions[0],\n",
    "                                                                     rewards=replay.rewards,\n",
    "                                                                     is_alive=replay.is_alive,\n",
    "                                                                     gamma_or_gammas=0.99,\n",
    "                                                                     n_steps=None,\n",
    "                                                                     n_steps_advantage=1,\n",
    "                                                                     return_separate=True)\n",
    "\n",
    "\n",
    "reg_entropy = 1e-2*T.mean(T.sum(policy_seq*logpolicy_seq,axis=-1))\n",
    "loss = elwise_actor_loss.mean() + 0.25*elwise_critic_loss.mean() + reg_entropy\n",
    "\n",
    "\n",
    "# Compute weight updates\n",
    "dV,dl = T.grad(-loss,[V_seq,logits_seq])\n",
    "#####################\n",
    "\n",
    "\n",
    "\n",
    "# compile train function\n",
    "inputs = [observations, actions, rewards, is_alive]+prev_memory\n",
    "eval_fun = theano.function(inputs, \n",
    "                           [policy_seq, V_seq,dV,logits_seq,dl],\n",
    "                           updates=rng_updates,on_unused_input='ignore')\n",
    "\n"
   ]
  },
  {
   "cell_type": "code",
   "execution_count": 16,
   "metadata": {
    "collapsed": true
   },
   "outputs": [],
   "source": [
    "db.load_all_params(agent)"
   ]
  },
  {
   "cell_type": "code",
   "execution_count": 25,
   "metadata": {
    "collapsed": false
   },
   "outputs": [],
   "source": [
    "from agentnet.utils.persistence import save,load\n",
    "save(agent.policy,\"atari_a3c_weights.7h_train.pcl\") #save all layers that pi(a|s) and V(s) depend on\n"
   ]
  },
  {
   "cell_type": "code",
   "execution_count": 4,
   "metadata": {
    "collapsed": false
   },
   "outputs": [
    {
     "name": "stderr",
     "output_type": "stream",
     "text": [
      "[2017-01-17 07:41:10,388] Making new env: PongDeterministic-v0\n"
     ]
    },
    {
     "data": {
      "text/plain": [
       "['NOOP', 'FIRE', 'RIGHT', 'LEFT', 'RIGHTFIRE', 'LEFTFIRE']"
      ]
     },
     "execution_count": 4,
     "metadata": {},
     "output_type": "execute_result"
    }
   ],
   "source": [
    "import gym\n",
    "avg_reward_per_session = []\n",
    "gym.make(\"PongDeterministic-v0\").get_action_meanings()"
   ]
  },
  {
   "cell_type": "code",
   "execution_count": 11,
   "metadata": {
    "collapsed": false
   },
   "outputs": [
    {
     "name": "stdout",
     "output_type": "stream",
     "text": [
      "n_sessions: 5409\n"
     ]
    },
    {
     "data": {
      "image/png": "[encoded data removed]",
      "text/plain": [
       "<matplotlib.figure.Figure at 0x7f4ab8aa7898>"
      ]
     },
     "metadata": {},
     "output_type": "display_data"
    },
    {
     "name": "stdout",
     "output_type": "stream",
     "text": [
      "r\tV\t\tEnt\tLogits\n",
      "+0.0 -0.212 (+0.027) +1.745 | +0.09(+0.08) +0.15(+0.08) +0.56(-0.35) -0.54(+0.04) +0.00(+0.07) +0.11(+0.08)\n",
      "+0.0 -0.332 (+0.263) +1.728 | -0.08(-0.06) +0.03(-0.06) +0.68(+0.30) -0.49(-0.04) +0.21(-0.08) +0.05(-0.06)\n",
      "+0.0 -0.228 (+0.050) +1.763 | +0.35(+0.06) -0.08(+0.04) +0.38(+0.06) +0.02(+0.05) +0.11(+0.05) -0.34(-0.26)\n",
      "+0.0 -0.303 (+0.197) +1.773 | +0.11(+0.01) +0.11(+0.01) +0.15(+0.02) -0.41(+0.01) +0.26(-0.07) -0.04(+0.01)\n",
      "+0.0 -0.328 (+0.242) +1.758 | -0.10(-0.04) +0.01(-0.05) -0.11(+0.27) -0.37(-0.03) +0.09(-0.06) +0.45(-0.08)\n",
      "+0.0 -0.253 (+0.088) +1.695 | -0.25(+0.04) +0.05(+0.05) +0.19(+0.06) -0.37(+0.03) -0.50(+0.03) +0.73(-0.21)\n",
      "+0.0 -0.331 (+0.240) +1.674 | -0.22(+0.00) -0.28(+0.00) -0.02(+0.00) +0.04(+0.01) -0.36(+0.00) +0.88(-0.01)\n",
      "+0.0 -0.333 (+0.239) +1.744 | -0.65(-0.00) -0.15(-0.01) +0.34(-0.02) +0.01(-0.01) +0.09(-0.01) +0.37(+0.04)\n",
      "+0.0 -0.321 (+0.211) +1.683 | -0.63(+0.02) +0.03(-0.14) -0.20(+0.02) -0.32(+0.02) +0.77(+0.05) +0.30(+0.03)\n",
      "+0.0 -0.367 (+0.298) +1.706 | +0.12(+0.01) -0.15(-0.03) -0.63(+0.01) -0.19(+0.01) +0.66(+0.00) -0.20(+0.01)\n",
      "+0.0 -0.380 (+0.320) +1.727 | +0.48(-0.05) +0.13(-0.03) -0.61(-0.01) -0.37(-0.02) +0.37(+0.15) +0.06(-0.03)\n",
      "+0.0 -0.333 (+0.222) +1.715 | +0.03(+0.02) +0.03(+0.02) -0.58(+0.01) -0.06(-0.10) +0.71(+0.03) -0.04(+0.02)\n",
      "+0.0 -0.366 (+0.283) +1.729 | -0.01(+0.00) +0.09(-0.02) -0.20(+0.00) +0.07(+0.00) +0.82(-0.00) +0.17(+0.00)\n",
      "+0.0 -0.374 (+0.295) +1.680 | -0.09(+0.01) +0.06(+0.01) +0.15(+0.01) -0.38(+0.01) +0.93(-0.06) -0.19(+0.01)\n",
      "+0.0 -0.400 (+0.342) +1.628 | -0.29(+0.02) +0.21(+0.02) -0.50(+0.01) -0.46(+0.01) +1.00(-0.09) +0.07(+0.02)\n",
      "+0.0 -0.437 (+0.411) +1.445 | -0.17(+0.00) -0.34(+0.00) -0.10(+0.00) -0.89(+0.00) +1.38(-0.01) -0.29(+0.00)\n",
      "+0.0 -0.439 (+0.411) +1.611 | +0.08(+0.45) -0.21(-0.06) -0.42(-0.05) -0.25(-0.06) +1.03(-0.23) -0.43(-0.05)\n",
      "+0.0 -0.309 (+0.146) +1.749 | +0.31(-0.00) +0.39(-0.01) -0.02(-0.00) -0.61(+0.00) -0.05(+0.01) +0.06(-0.00)\n",
      "+0.0 -0.309 (+0.141) +1.704 | +0.50(+0.10) +0.35(+0.09) -0.57(+0.04) -0.17(+0.05) -0.45(+0.04) +0.52(-0.32)\n",
      "+0.0 -0.418 (+0.355) +1.658 | +0.80(-0.09) +0.57(-0.07) -0.57(-0.02) -0.41(-0.02) -0.38(+0.23) +0.16(-0.04)\n",
      "+0.0 -0.358 (+0.229) +1.686 | +0.42(-0.11) +0.59(+0.34) -0.31(-0.05) -0.69(-0.03) -0.44(-0.04) +0.42(-0.11)\n",
      "+0.0 -0.242 (-0.007) +1.703 | +0.05(+0.02) +0.48(+0.03) -0.32(+0.02) +0.03(-0.12) -0.80(+0.01) +0.55(+0.03)\n",
      "+0.0 -0.280 (+0.064) +1.762 | +0.09(+0.22) +0.18(-0.05) +0.38(-0.07) -0.20(-0.03) -0.22(-0.03) -0.27(-0.03)\n",
      "+0.0 -0.216 (-0.070) +1.657 | -0.09(+0.02) +0.43(-0.11) +0.69(+0.04) -0.98(+0.01) +0.34(+0.03) -0.60(+0.01)\n",
      "+0.0 -0.253 (+0.000) +1.643 | -0.60(+0.00) +0.28(-0.00) +0.86(-0.01) -0.49(+0.00) +0.12(+0.00) -0.46(+0.00)\n"
     ]
    },
    {
     "ename": "KeyboardInterrupt",
     "evalue": "",
     "output_type": "error",
     "traceback": [
      "\u001b[0;31m---------------------------------------------------------------------------\u001b[0m",
      "\u001b[0;31mKeyboardInterrupt\u001b[0m                         Traceback (most recent call last)",
      "\u001b[0;32m<ipython-input-11-865b8321f043>\u001b[0m in \u001b[0;36m<module>\u001b[0;34m()\u001b[0m\n\u001b[1;32m     33\u001b[0m     \u001b[0mR\u001b[0m\u001b[0;34m=\u001b[0m\u001b[0;36m0\u001b[0m\u001b[0;34m\u001b[0m\u001b[0m\n\u001b[1;32m     34\u001b[0m     \u001b[0;32mfor\u001b[0m \u001b[0mi\u001b[0m \u001b[0;32min\u001b[0m \u001b[0mrange\u001b[0m\u001b[0;34m(\u001b[0m\u001b[0;36m5000\u001b[0m\u001b[0;34m)\u001b[0m\u001b[0;34m[\u001b[0m\u001b[0;34m:\u001b[0m\u001b[0;34m:\u001b[0m\u001b[0;34m-\u001b[0m\u001b[0;36m1\u001b[0m\u001b[0;34m]\u001b[0m\u001b[0;34m:\u001b[0m\u001b[0;34m\u001b[0m\u001b[0m\n\u001b[0;32m---> 35\u001b[0;31m         \u001b[0ms\u001b[0m\u001b[0;34m,\u001b[0m\u001b[0ma\u001b[0m\u001b[0;34m,\u001b[0m\u001b[0mr\u001b[0m\u001b[0;34m,\u001b[0m\u001b[0md\u001b[0m\u001b[0;34m,\u001b[0m\u001b[0mm\u001b[0m \u001b[0;34m=\u001b[0m \u001b[0mdb\u001b[0m\u001b[0;34m.\u001b[0m\u001b[0mloads\u001b[0m\u001b[0;34m(\u001b[0m\u001b[0mdb\u001b[0m\u001b[0;34m.\u001b[0m\u001b[0mredis\u001b[0m\u001b[0;34m.\u001b[0m\u001b[0mlindex\u001b[0m\u001b[0;34m(\u001b[0m\u001b[0;34m'sessions'\u001b[0m\u001b[0;34m,\u001b[0m\u001b[0mi\u001b[0m\u001b[0;34m)\u001b[0m\u001b[0;34m)\u001b[0m\u001b[0;34m\u001b[0m\u001b[0m\n\u001b[0m\u001b[1;32m     36\u001b[0m         \u001b[0mR\u001b[0m \u001b[0;34m+=\u001b[0m \u001b[0msum\u001b[0m\u001b[0;34m(\u001b[0m\u001b[0mr\u001b[0m\u001b[0;34m)\u001b[0m\u001b[0;34m\u001b[0m\u001b[0m\n\u001b[1;32m     37\u001b[0m     \u001b[0mavg_reward_per_session\u001b[0m\u001b[0;34m.\u001b[0m\u001b[0mappend\u001b[0m\u001b[0;34m(\u001b[0m\u001b[0mR\u001b[0m\u001b[0;34m)\u001b[0m\u001b[0;34m\u001b[0m\u001b[0m\n",
      "\u001b[0;32m/anaconda3/lib/python3.5/site-packages/redis/client.py\u001b[0m in \u001b[0;36mlindex\u001b[0;34m(self, name, index)\u001b[0m\n\u001b[1;32m   1203\u001b[0m         \u001b[0mend\u001b[0m \u001b[0mof\u001b[0m \u001b[0mthe\u001b[0m \u001b[0mlist\u001b[0m\u001b[0;34m\u001b[0m\u001b[0m\n\u001b[1;32m   1204\u001b[0m         \"\"\"\n\u001b[0;32m-> 1205\u001b[0;31m         \u001b[0;32mreturn\u001b[0m \u001b[0mself\u001b[0m\u001b[0;34m.\u001b[0m\u001b[0mexecute_command\u001b[0m\u001b[0;34m(\u001b[0m\u001b[0;34m'LINDEX'\u001b[0m\u001b[0;34m,\u001b[0m \u001b[0mname\u001b[0m\u001b[0;34m,\u001b[0m \u001b[0mindex\u001b[0m\u001b[0;34m)\u001b[0m\u001b[0;34m\u001b[0m\u001b[0m\n\u001b[0m\u001b[1;32m   1206\u001b[0m \u001b[0;34m\u001b[0m\u001b[0m\n\u001b[1;32m   1207\u001b[0m     \u001b[0;32mdef\u001b[0m \u001b[0mlinsert\u001b[0m\u001b[0;34m(\u001b[0m\u001b[0mself\u001b[0m\u001b[0;34m,\u001b[0m \u001b[0mname\u001b[0m\u001b[0;34m,\u001b[0m \u001b[0mwhere\u001b[0m\u001b[0;34m,\u001b[0m \u001b[0mrefvalue\u001b[0m\u001b[0;34m,\u001b[0m \u001b[0mvalue\u001b[0m\u001b[0;34m)\u001b[0m\u001b[0;34m:\u001b[0m\u001b[0;34m\u001b[0m\u001b[0m\n",
      "\u001b[0;32m/anaconda3/lib/python3.5/site-packages/redis/client.py\u001b[0m in \u001b[0;36mexecute_command\u001b[0;34m(self, *args, **options)\u001b[0m\n\u001b[1;32m    571\u001b[0m         \u001b[0;32mtry\u001b[0m\u001b[0;34m:\u001b[0m\u001b[0;34m\u001b[0m\u001b[0m\n\u001b[1;32m    572\u001b[0m             \u001b[0mconnection\u001b[0m\u001b[0;34m.\u001b[0m\u001b[0msend_command\u001b[0m\u001b[0;34m(\u001b[0m\u001b[0;34m*\u001b[0m\u001b[0margs\u001b[0m\u001b[0;34m)\u001b[0m\u001b[0;34m\u001b[0m\u001b[0m\n\u001b[0;32m--> 573\u001b[0;31m             \u001b[0;32mreturn\u001b[0m \u001b[0mself\u001b[0m\u001b[0;34m.\u001b[0m\u001b[0mparse_response\u001b[0m\u001b[0;34m(\u001b[0m\u001b[0mconnection\u001b[0m\u001b[0;34m,\u001b[0m \u001b[0mcommand_name\u001b[0m\u001b[0;34m,\u001b[0m \u001b[0;34m**\u001b[0m\u001b[0moptions\u001b[0m\u001b[0;34m)\u001b[0m\u001b[0;34m\u001b[0m\u001b[0m\n\u001b[0m\u001b[1;32m    574\u001b[0m         \u001b[0;32mexcept\u001b[0m \u001b[0;34m(\u001b[0m\u001b[0mConnectionError\u001b[0m\u001b[0;34m,\u001b[0m \u001b[0mTimeoutError\u001b[0m\u001b[0;34m)\u001b[0m \u001b[0;32mas\u001b[0m \u001b[0me\u001b[0m\u001b[0;34m:\u001b[0m\u001b[0;34m\u001b[0m\u001b[0m\n\u001b[1;32m    575\u001b[0m             \u001b[0mconnection\u001b[0m\u001b[0;34m.\u001b[0m\u001b[0mdisconnect\u001b[0m\u001b[0;34m(\u001b[0m\u001b[0;34m)\u001b[0m\u001b[0;34m\u001b[0m\u001b[0m\n",
      "\u001b[0;32m/anaconda3/lib/python3.5/site-packages/redis/client.py\u001b[0m in \u001b[0;36mparse_response\u001b[0;34m(self, connection, command_name, **options)\u001b[0m\n\u001b[1;32m    583\u001b[0m     \u001b[0;32mdef\u001b[0m \u001b[0mparse_response\u001b[0m\u001b[0;34m(\u001b[0m\u001b[0mself\u001b[0m\u001b[0;34m,\u001b[0m \u001b[0mconnection\u001b[0m\u001b[0;34m,\u001b[0m \u001b[0mcommand_name\u001b[0m\u001b[0;34m,\u001b[0m \u001b[0;34m**\u001b[0m\u001b[0moptions\u001b[0m\u001b[0;34m)\u001b[0m\u001b[0;34m:\u001b[0m\u001b[0;34m\u001b[0m\u001b[0m\n\u001b[1;32m    584\u001b[0m         \u001b[0;34m\"Parses a response from the Redis server\"\u001b[0m\u001b[0;34m\u001b[0m\u001b[0m\n\u001b[0;32m--> 585\u001b[0;31m         \u001b[0mresponse\u001b[0m \u001b[0;34m=\u001b[0m \u001b[0mconnection\u001b[0m\u001b[0;34m.\u001b[0m\u001b[0mread_response\u001b[0m\u001b[0;34m(\u001b[0m\u001b[0;34m)\u001b[0m\u001b[0;34m\u001b[0m\u001b[0m\n\u001b[0m\u001b[1;32m    586\u001b[0m         \u001b[0;32mif\u001b[0m \u001b[0mcommand_name\u001b[0m \u001b[0;32min\u001b[0m \u001b[0mself\u001b[0m\u001b[0;34m.\u001b[0m\u001b[0mresponse_callbacks\u001b[0m\u001b[0;34m:\u001b[0m\u001b[0;34m\u001b[0m\u001b[0m\n\u001b[1;32m    587\u001b[0m             \u001b[0;32mreturn\u001b[0m \u001b[0mself\u001b[0m\u001b[0;34m.\u001b[0m\u001b[0mresponse_callbacks\u001b[0m\u001b[0;34m[\u001b[0m\u001b[0mcommand_name\u001b[0m\u001b[0;34m]\u001b[0m\u001b[0;34m(\u001b[0m\u001b[0mresponse\u001b[0m\u001b[0;34m,\u001b[0m \u001b[0;34m**\u001b[0m\u001b[0moptions\u001b[0m\u001b[0;34m)\u001b[0m\u001b[0;34m\u001b[0m\u001b[0m\n",
      "\u001b[0;32m/anaconda3/lib/python3.5/site-packages/redis/connection.py\u001b[0m in \u001b[0;36mread_response\u001b[0;34m(self)\u001b[0m\n\u001b[1;32m    575\u001b[0m         \u001b[0;34m\"Read the response from a previously sent command\"\u001b[0m\u001b[0;34m\u001b[0m\u001b[0m\n\u001b[1;32m    576\u001b[0m         \u001b[0;32mtry\u001b[0m\u001b[0;34m:\u001b[0m\u001b[0;34m\u001b[0m\u001b[0m\n\u001b[0;32m--> 577\u001b[0;31m             \u001b[0mresponse\u001b[0m \u001b[0;34m=\u001b[0m \u001b[0mself\u001b[0m\u001b[0;34m.\u001b[0m\u001b[0m_parser\u001b[0m\u001b[0;34m.\u001b[0m\u001b[0mread_response\u001b[0m\u001b[0;34m(\u001b[0m\u001b[0;34m)\u001b[0m\u001b[0;34m\u001b[0m\u001b[0m\n\u001b[0m\u001b[1;32m    578\u001b[0m         \u001b[0;32mexcept\u001b[0m\u001b[0;34m:\u001b[0m\u001b[0;34m\u001b[0m\u001b[0m\n\u001b[1;32m    579\u001b[0m             \u001b[0mself\u001b[0m\u001b[0;34m.\u001b[0m\u001b[0mdisconnect\u001b[0m\u001b[0;34m(\u001b[0m\u001b[0;34m)\u001b[0m\u001b[0;34m\u001b[0m\u001b[0m\n",
      "\u001b[0;32m/anaconda3/lib/python3.5/site-packages/redis/connection.py\u001b[0m in \u001b[0;36mread_response\u001b[0;34m(self)\u001b[0m\n\u001b[1;32m    236\u001b[0m \u001b[0;34m\u001b[0m\u001b[0m\n\u001b[1;32m    237\u001b[0m     \u001b[0;32mdef\u001b[0m \u001b[0mread_response\u001b[0m\u001b[0;34m(\u001b[0m\u001b[0mself\u001b[0m\u001b[0;34m)\u001b[0m\u001b[0;34m:\u001b[0m\u001b[0;34m\u001b[0m\u001b[0m\n\u001b[0;32m--> 238\u001b[0;31m         \u001b[0mresponse\u001b[0m \u001b[0;34m=\u001b[0m \u001b[0mself\u001b[0m\u001b[0;34m.\u001b[0m\u001b[0m_buffer\u001b[0m\u001b[0;34m.\u001b[0m\u001b[0mreadline\u001b[0m\u001b[0;34m(\u001b[0m\u001b[0;34m)\u001b[0m\u001b[0;34m\u001b[0m\u001b[0m\n\u001b[0m\u001b[1;32m    239\u001b[0m         \u001b[0;32mif\u001b[0m \u001b[0;32mnot\u001b[0m \u001b[0mresponse\u001b[0m\u001b[0;34m:\u001b[0m\u001b[0;34m\u001b[0m\u001b[0m\n\u001b[1;32m    240\u001b[0m             \u001b[0;32mraise\u001b[0m \u001b[0mConnectionError\u001b[0m\u001b[0;34m(\u001b[0m\u001b[0mSERVER_CLOSED_CONNECTION_ERROR\u001b[0m\u001b[0;34m)\u001b[0m\u001b[0;34m\u001b[0m\u001b[0m\n",
      "\u001b[0;32m/anaconda3/lib/python3.5/site-packages/redis/connection.py\u001b[0m in \u001b[0;36mreadline\u001b[0;34m(self)\u001b[0m\n\u001b[1;32m    166\u001b[0m         \u001b[0;32mwhile\u001b[0m \u001b[0;32mnot\u001b[0m \u001b[0mdata\u001b[0m\u001b[0;34m.\u001b[0m\u001b[0mendswith\u001b[0m\u001b[0;34m(\u001b[0m\u001b[0mSYM_CRLF\u001b[0m\u001b[0;34m)\u001b[0m\u001b[0;34m:\u001b[0m\u001b[0;34m\u001b[0m\u001b[0m\n\u001b[1;32m    167\u001b[0m             \u001b[0;31m# there's more data in the socket that we need\u001b[0m\u001b[0;34m\u001b[0m\u001b[0;34m\u001b[0m\u001b[0m\n\u001b[0;32m--> 168\u001b[0;31m             \u001b[0mself\u001b[0m\u001b[0;34m.\u001b[0m\u001b[0m_read_from_socket\u001b[0m\u001b[0;34m(\u001b[0m\u001b[0;34m)\u001b[0m\u001b[0;34m\u001b[0m\u001b[0m\n\u001b[0m\u001b[1;32m    169\u001b[0m             \u001b[0mbuf\u001b[0m\u001b[0;34m.\u001b[0m\u001b[0mseek\u001b[0m\u001b[0;34m(\u001b[0m\u001b[0mself\u001b[0m\u001b[0;34m.\u001b[0m\u001b[0mbytes_read\u001b[0m\u001b[0;34m)\u001b[0m\u001b[0;34m\u001b[0m\u001b[0m\n\u001b[1;32m    170\u001b[0m             \u001b[0mdata\u001b[0m \u001b[0;34m=\u001b[0m \u001b[0mbuf\u001b[0m\u001b[0;34m.\u001b[0m\u001b[0mreadline\u001b[0m\u001b[0;34m(\u001b[0m\u001b[0;34m)\u001b[0m\u001b[0;34m\u001b[0m\u001b[0m\n",
      "\u001b[0;32m/anaconda3/lib/python3.5/site-packages/redis/connection.py\u001b[0m in \u001b[0;36m_read_from_socket\u001b[0;34m(self, length)\u001b[0m\n\u001b[1;32m    124\u001b[0m         \u001b[0;32mtry\u001b[0m\u001b[0;34m:\u001b[0m\u001b[0;34m\u001b[0m\u001b[0m\n\u001b[1;32m    125\u001b[0m             \u001b[0;32mwhile\u001b[0m \u001b[0;32mTrue\u001b[0m\u001b[0;34m:\u001b[0m\u001b[0;34m\u001b[0m\u001b[0m\n\u001b[0;32m--> 126\u001b[0;31m                 \u001b[0mdata\u001b[0m \u001b[0;34m=\u001b[0m \u001b[0mself\u001b[0m\u001b[0;34m.\u001b[0m\u001b[0m_sock\u001b[0m\u001b[0;34m.\u001b[0m\u001b[0mrecv\u001b[0m\u001b[0;34m(\u001b[0m\u001b[0msocket_read_size\u001b[0m\u001b[0;34m)\u001b[0m\u001b[0;34m\u001b[0m\u001b[0m\n\u001b[0m\u001b[1;32m    127\u001b[0m                 \u001b[0;31m# an empty string indicates the server shutdown the socket\u001b[0m\u001b[0;34m\u001b[0m\u001b[0;34m\u001b[0m\u001b[0m\n\u001b[1;32m    128\u001b[0m                 \u001b[0;32mif\u001b[0m \u001b[0misinstance\u001b[0m\u001b[0;34m(\u001b[0m\u001b[0mdata\u001b[0m\u001b[0;34m,\u001b[0m \u001b[0mbytes\u001b[0m\u001b[0;34m)\u001b[0m \u001b[0;32mand\u001b[0m \u001b[0mlen\u001b[0m\u001b[0;34m(\u001b[0m\u001b[0mdata\u001b[0m\u001b[0;34m)\u001b[0m \u001b[0;34m==\u001b[0m \u001b[0;36m0\u001b[0m\u001b[0;34m:\u001b[0m\u001b[0;34m\u001b[0m\u001b[0m\n",
      "\u001b[0;31mKeyboardInterrupt\u001b[0m: "
     ]
    }
   ],
   "source": [
    "#MEGA-controller of doom. Draws all the stuff i wanted to see for some reason. Don't try to analize\n",
    "from IPython.display import clear_output\n",
    "while True:\n",
    "    if db.redis.exists(\"weights\"):\n",
    "        weights = db.loads(db.redis.get('weights'))\n",
    "        if any(map(np.any,map(np.isnan,weights))):\n",
    "            print(\"Weights broken!!!\")\n",
    "    \n",
    "    print(\"n_sessions:\",db.redis.llen(\"sessions\"))\n",
    "    plt.plot(avg_reward_per_session)\n",
    "    plt.grid()\n",
    "    plt.show()\n",
    "    \n",
    "    \n",
    "    from scipy.stats import entropy\n",
    "    db.load_all_params(experiment.agent,errors='raise')\n",
    "    s,a,r,alive,mem = db.loads(db.redis.lindex('sessions',np.random.randint(1000)))\n",
    "\n",
    "    pi,v,dv,logits,dlogits = eval_fun([s],[a],[r],[alive],*[m[None] for m in mem])\n",
    "    \n",
    "    print (\"r\\tV\\t\\tEnt\\tLogits\")\n",
    "    for lo_i,dlo_i,pi_i,v_i,dv_i,r_i in zip(\n",
    "        logits.reshape(-1,6),\n",
    "        dlogits.reshape(-1,6),\n",
    "        pi.reshape(-1,6),\n",
    "        v.reshape(-1),\n",
    "        dv.reshape(-1),\n",
    "        r.reshape(-1)):\n",
    "        logit_str = map(lambda l,dl:(\"%+.2f(%+.2f)\"%(l,100*dl)),lo_i,dlo_i)\n",
    "        print (\"%+.1f\"%r_i, \"%+.3f\"%v_i,\"(%+.3f)\"%(100*dv_i),\"%+.3f\"%entropy(pi_i),\"|\",\" \".join(logit_str))\n",
    "    \n",
    "\n",
    "    R=0\n",
    "    for i in range(5000)[::-1]:\n",
    "        s,a,r,d,m = db.loads(db.redis.lindex('sessions',i))\n",
    "        R += sum(r)\n",
    "    avg_reward_per_session.append(R)\n",
    "    clear_output(True)\n",
    "    "
   ]
  },
  {
   "cell_type": "code",
   "execution_count": null,
   "metadata": {
    "collapsed": false
   },
   "outputs": [],
   "source": [
    "\n",
    "\n",
    "\n",
    "\n",
    "\n",
    "\n",
    "\n",
    "\n",
    "\n",
    "\n",
    "\n",
    "\n",
    "\n",
    "\n",
    "\n",
    "\n",
    "\n",
    "\n",
    "\n",
    "\n",
    "\n",
    "\n",
    "\n",
    "\n",
    "\n",
    "\n",
    "\n",
    "\n",
    "\n"
   ]
  },
  {
   "cell_type": "code",
   "execution_count": 18,
   "metadata": {
    "collapsed": false
   },
   "outputs": [
    {
     "name": "stdout",
     "output_type": "stream",
     "text": [
      "root      6326 90.6  0.7 79039712 928644 pts/11 Rl+ 06:42   0:44 python tinyverse atari.py train -b 10\r\n",
      "root      6475 90.9  0.2 71643972 347380 pts/8 Rl   06:42   0:28 python tinyverse atari.py play -b 1\r\n",
      "root      6476 87.8  0.2 71643852 348072 pts/8 Rl   06:42   0:27 python tinyverse atari.py play -b 1\r\n",
      "root      6477 89.0  0.2 71643968 349932 pts/8 Rl   06:42   0:27 python tinyverse atari.py play -b 1\r\n",
      "root      6478 87.4  0.2 71643552 347084 pts/8 Rl   06:42   0:27 python tinyverse atari.py play -b 1\r\n",
      "root      6479 87.4  0.2 71643540 354384 pts/8 Rl   06:42   0:27 python tinyverse atari.py play -b 1\r\n",
      "root      6480 84.1  0.2 71643848 347368 pts/8 Rl   06:42   0:26 python tinyverse atari.py play -b 1\r\n",
      "root      6481 91.0  0.2 71643512 349676 pts/8 Rl   06:42   0:28 python tinyverse atari.py play -b 1\r\n",
      "root      6482 87.4  0.2 71643512 347188 pts/8 Sl   06:42   0:27 python tinyverse atari.py play -b 1\r\n",
      "root      6483 86.0  0.2 71643848 348648 pts/8 Rl   06:42   0:26 python tinyverse atari.py play -b 1\r\n",
      "root      6484 86.0  0.2 71643844 351244 pts/8 Rl   06:42   0:26 python tinyverse atari.py play -b 1\r\n",
      "root      6485 90.8  0.2 71643840 347592 pts/8 Rl   06:42   0:28 python tinyverse atari.py play -b 1\r\n",
      "root      6486 97.8  0.2 71645432 348740 pts/8 Rl   06:42   0:30 python tinyverse atari.py play -b 1\r\n",
      "root      6487 89.5  0.2 71643848 349260 pts/8 Rl   06:42   0:27 python tinyverse atari.py play -b 1\r\n",
      "root      6488 87.6  0.2 71643540 346468 pts/8 Rl   06:42   0:27 python tinyverse atari.py play -b 1\r\n",
      "root      6489 85.3  0.2 71643588 349764 pts/8 Rl   06:42   0:26 python tinyverse atari.py play -b 1\r\n",
      "root      6490 87.1  0.2 71643844 347828 pts/8 Rl   06:42   0:27 python tinyverse atari.py play -b 1\r\n",
      "root      6491 87.3  0.2 71643388 346572 pts/8 Rl   06:42   0:27 python tinyverse atari.py play -b 1\r\n",
      "root      6492 86.1  0.2 71643840 347660 pts/8 Rl   06:42   0:26 python tinyverse atari.py play -b 1\r\n",
      "root      6493 87.7  0.2 71643856 352008 pts/8 Rl   06:42   0:27 python tinyverse atari.py play -b 1\r\n",
      "root      6494 86.0  0.2 71643520 349620 pts/8 Rl   06:42   0:26 python tinyverse atari.py play -b 1\r\n",
      "root      6495 91.6  0.2 71643856 347504 pts/8 Rl   06:42   0:28 python tinyverse atari.py play -b 1\r\n",
      "root      6496 88.1  0.2 71643576 347772 pts/8 Rl   06:42   0:27 python tinyverse atari.py play -b 1\r\n",
      "root      6497 85.1  0.2 71643844 348192 pts/8 Rl   06:42   0:26 python tinyverse atari.py play -b 1\r\n",
      "root      6498 89.2  0.2 71643500 346368 pts/8 Rl   06:42   0:27 python tinyverse atari.py play -b 1\r\n",
      "root      6499 91.4  0.2 71643508 347040 pts/8 Rl   06:42   0:28 python tinyverse atari.py play -b 1\r\n",
      "root     11217  0.0  0.0   4448   796 pts/16   Ss+  06:43   0:00 /bin/sh -c ps aux | grep tinyverse\r\n",
      "root     11219  0.0  0.0  10472  2136 pts/16   R+   06:43   0:00 grep tinyverse\r\n"
     ]
    }
   ],
   "source": [
    "!ps aux | grep tinyverse"
   ]
  },
  {
   "cell_type": "code",
   "execution_count": 23,
   "metadata": {
    "collapsed": false
   },
   "outputs": [],
   "source": [
    "!kill -9 $(ps aux | grep tinyverse | awk '{print $2}') #uncomment to hard kill all\n",
    "from tinyverse.database import Database\n",
    "db = Database()\n",
    "for key in db.redis.keys():\n",
    "    db.redis.delete(key)"
   ]
  },
  {
   "cell_type": "code",
   "execution_count": 16,
   "metadata": {
    "collapsed": false
   },
   "outputs": [
    {
     "data": {
      "text/plain": [
       "0"
      ]
     },
     "execution_count": 16,
     "metadata": {},
     "output_type": "execute_result"
    }
   ],
   "source": [
    "db.redis.delete(\"weights\")"
   ]
  }
 ],
 "metadata": {
  "anaconda-cloud": {},
  "kernelspec": {
   "display_name": "Python [conda root]",
   "language": "python",
   "name": "conda-root-py"
  },
  "language_info": {
   "codemirror_mode": {
    "name": "ipython",
    "version": 3
   },
   "file_extension": ".py",
   "mimetype": "text/x-python",
   "name": "python",
   "nbconvert_exporter": "python",
   "pygments_lexer": "ipython3",
   "version": "3.5.2"
  }
 },
 "nbformat": 4,
 "nbformat_minor": 1
}
