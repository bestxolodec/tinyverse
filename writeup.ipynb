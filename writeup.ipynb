{
 "cells": [
  {
   "cell_type": "markdown",
   "metadata": {
    "collapsed": true
   },
   "source": [
    "### This notebook plays atari skiing for the Deephack-RL contest.\n",
    "\n",
    "All the source code is [here](https://github.com/yandexdataschool/tinyverse/tree/deephack-rl)\n",
    "\n",
    "Unlike many other solutions, we only use one hack and i'm going to explain it shortly.\n",
    "Otherwises it trains a simple feedforward A3C algorithm with tinyverse.\n",
    "Below you will find a set of bash scripts that runs the algorithm, so it may be a good idea to first run in and than read the writeup.\n",
    "\n",
    "#### Reward trick\n",
    "The original DQN wasn't very good at this game, and here's the reason: the reward function is very hard. \n",
    "\n",
    "OpenAI Gym has a very convenient interface for wrapping rewards, so that's what we did:\n",
    "```\n",
    "from gym.core import Wrapper\n",
    "class RewardForPassingGates(Wrapper):\n",
    "    \"\"\"Skiing wrapper that rewards player +1 for passing gates only.\"\"\"\n",
    "    def _reset(self):\n",
    "        \"\"\"On game reset, remember the hash of initial score\"\"\"\n",
    "        s = self.env.reset()\n",
    "        self.prev_score_hash = hash(s[31:38,67:81].tobytes()) #hash of the image chunk with scoreboard\n",
    "        return s\n",
    "    def _step(self,action):\n",
    "        \"\"\"on each step, if score has changed, give +1 reward, else +0\"\"\"\n",
    "        s,_,done,info = self.env.step(action)\n",
    "        new_score_hash = hash(s[31:38,67:81].tobytes()) #hash of the same image chunk\n",
    "        \n",
    "        #reward = +1 if we have just crossed the gate, else 0\n",
    "        r = int(new_score_hash != self.prev_score_hash)\n",
    "        \n",
    "        #remember new score\n",
    "        self.prev_score_hash = new_score_hash\n",
    "        return s,r,done,info\n",
    "```\n",
    "\n",
    "We can then use the environment thusly:\n",
    "```\n",
    "env = gym.make(\"Skiing-v0\")\n",
    "env = RewardForPassingGates(env)\n",
    "```\n",
    "\n",
    "Notably, so far as we know, the optimal policy under this reward is to get through all the gates as quickly as possible, which also gives the optimum to the original reward [we believe].\n",
    "\n",
    "\n",
    "### Why we did that? What else could we do?\n",
    "\n",
    "The original reward function:\n",
    "* -1~-10 negative reward on every tick, \n",
    "* no immediate reward for passing gates\n",
    "* some weird ~-10^4 reward at the very end, summarizing the whole performance.\n",
    "\n",
    "This is bad for two reasons: first, the rewards can be as large as -30k, which will blow up most gradient descent algorithms, should you use deep reinforcement learning.\n",
    "\n",
    "Second and main reason is that this reward function is as _sparse_ and as _delayed_ as it can be.\n",
    "The problem is effectively almost from the Monte-Carlo domain (read [here])(http://people.inf.elte.hu/lorincz/Files/RL_2006/SuttonBook.pdf) because you can only evaluate the policy once you've played a full game.\n",
    "\n",
    "Temporal difference methods (Q-learning, SARSA, actor-critic) are extremely poorly suited for that kind of problem. The objective function for most of them tends to follow this pattern:\n",
    "\n",
    "$$ Q(s_t,a_t) = r_t + \\gamma \\cdot r_{t+1} + \\gamma^2 \\cdot r_{t+2} + ... $$\n",
    "\n",
    "Where $Q(s_t,a_t)$ is action value and $r_t$ is MDP reward at timestep t.\n",
    "\n",
    "\n",
    "\n",
    "For $ \\gamma = 0.99 $ , the value of _passing the first gate_ essentially becomes\n",
    "\n",
    "\n",
    "$$ Q(s,a) = 0 + 0.99 \\cdot 0 + 0.99^2 \\cdot 0 + ... + 0.9 ^ 5000 \\cdot reward_at_the_end $$\n",
    "\n",
    "Assuming the progressed for 5000 ticks which is quite realistic. Note, however that __0.99^5k ~ 10^-22__.\n",
    "\n",
    "Conversely, _agent does not even assume that his actions influenced the final score_. No wonder DQN can't solve the game.\n",
    "\n",
    "As a teaser, we're working on a way that would allow agent to infer the action values in this kinds of environments, but it's far from ready yet and it may be [sadly] unscalable to practical environments.\n",
    "\n",
    "Now when you substitute the rewards with +1 for passing the gates only, the reward now behaves just like the reward for [breakout](https://gym.openai.com/envs/Breakout-v0). Agent receives +1 rewards every 20-50 frames. This kind of problem can be easily solved with any deep RL algorithm. _Our next challenge is to make it work as fast as we can_.\n",
    "\n",
    "### Algorithm\n",
    "\n",
    "Inspired by [this](http://rll.berkeley.edu/deeprlcourse/docs/nuts-and-bolts.pdf), we decided to start with something very simple for our problem.\n",
    "\n",
    "We decided to use [policy gradient methods](https://www.youtube.com/watch?v=KHZVXao4qXs) since they are known to have faster convergence properties. We started with Advantage Actor Critic (also explained in the video).\n",
    "\n",
    "The main idea of an algorithm is that you learn both policy $\\pi(a|s)$ (action probabilities) and state value function $V(s)$. In practice, these are the two outputs of the neural network:\n",
    "<img src=\"https://s27.postimg.org/ge52gzx0j/a2c_deep.png\" width=800>\n",
    "\n",
    "The value function __V(s)__ is trained with a standard temporal difference loss (to minimize):\n",
    "$$ (r(s,a) +\\gamma V(s') - V(s))^2 $$\n",
    "\n",
    "While the policy is optimized with an equivalent of policy gradient (to maximize):\n",
    "$$ log \\pi(a|s) \\cdot(r(s,a) +\\gamma \\cdot V(s') - V(s)) $$\n",
    "\n",
    "While the last equation was derived through some pure math (logderivative trick followed by variance theorem), you can explain it with a very simple intuition:\n",
    "* Critic __V(s)__ tries to estimate the state value, as in value iteration.\n",
    "* Actor __pi(a|s)__ tries to maximize probability of actions that __exceed expectations__ of critic.\n",
    "\n",
    "$ (r(s,a) +\\gamma \\cdot V(s') - V(s)) $ can be viewed as (what_you_actually_got - what_you_should_have_got).\n",
    "\n",
    "Thus, if critic thought V(s) = 1, and actor picked an an action that yielded r = 2 and V(s') = 3, than actor exceeded expectations $r + \\gamma \\cdot V(s') - V(s) > 0$ and the probability of taking such action should increase.\n",
    "\n",
    "Instead of epsilon-greedy exploration, we regularized the actor with entropy, making it prefer to leave some randomness into it's actions, effectively exploring the environment. Idea mentioned [here](https://arxiv.org/abs/1602.01783).\n",
    "\n",
    "This algorithm would fully converge in 18~30 hours on other simple atari games like pong/breakout. To improve convergence, we used [eligibility traces](https://webdocs.cs.ualberta.ca/~sutton/book/ebook/node72.html) (also covered in the policy gradient video).\n",
    "\n",
    "The difference is essentially that if previously we used a one-step temporal difference\n",
    "$$ (r(s,a) +\\gamma V(s') - V(s))^2 $$\n",
    "\n",
    "A 3-step eligibility trace would be:\n",
    "$$ (r(s,a) +\\gamma r(s',a') + \\gamma^2 r(s'',a'') + \\gamma^3 V(s''') - V(s))^2 $$\n",
    "\n",
    "For stability reasons, we used a 25-step eligibility traces :) [More info](https://arxiv.org/abs/1506.02438) on them for actor-critic.\n",
    "\n",
    "Since the algorithm is on-policy, we only used a very small experience replay buffer. \n",
    "The problem was that if replay buffer is large, than your agent will train on sessions that it recorded whence it was still stupid and an on-policy algorithm will learn that stupid policy. That's ... stupid.\n",
    "\n",
    "We only stored 5000 last sub-sessions(each is just 25 ticks) which is roughly equivalent to 20 games. Since we recorded sessions with 10 parallel [tinyverse](https://github.com/yandexdataschool/tinyverse) players, this buffer was completely renewed over 20-30 seconds depending on machine.\n",
    "\n",
    "\n",
    "### Network architecture\n",
    "\n",
    "Like Pong or Breakout, Skiing with our new reward function can be viewed as a fully-observable MDP (roughly) as long as you know current __position__, __velocity and acceleration__ of all the objects. While we don't actually observe all the variables in the game state (~RAM), we know enough to build an optimal strategy, thus a full observability assumption is harmless.\n",
    "\n",
    "However, we can't see the object velocity from just one frame (or well, we could derive it from object shapes, but that's hard). We could also use recurrent neural networks as agent memory to let it remember all the past observations, but we decided to go wit ha simpler solution.\n",
    "\n",
    "Just like the [original DQN](https://www.cs.toronto.edu/~vmnih/docs/dqn.pdf), we use a 4-frame buffer that stores last 4 images agent has seen. From these you can easily extract object motion and acceleration.\n",
    "\n",
    "We resize game images to (64,64), store tham in a frame buffer and feed the resulting (4,64,64) tensors to a simple neural network:\n",
    "\n",
    "```\n",
    "conv0 = Conv2DLayer(<4-frame window>,32,5,stride=2,nonlinearity=elu)\n",
    "conv1 = Conv2DLayer(conv0,32,5,stride=2,nonlinearity=elu)\n",
    "conv2 = Conv2DLayer(conv1,64,5,stride=1,nonlinearity=elu)\n",
    "dense = DenseLayer(dropout(conv2,0.1),512,nonlinearity=tanh)\n",
    "\n",
    "#actor head\n",
    "policy_layer = DenseLayer(dense,n_actions,nonlinearity=T.nnet.softmax) \n",
    "\n",
    "#critic head\n",
    "V_layer = DenseLayer(dense,1,nonlinearity=None)\n",
    "\n",
    "```\n",
    "Some notes on the network architecture\n",
    "* We use strides instead of max-pooling for computational simplicity, just like the original DQN\n",
    "* Since we use smaller image size (than dqn), we can afford smaller convolutional layers.\n",
    "* We used elu instead of relu because it has a betten mean and less of \"dying ReLU\" problem\n",
    "* __We forgot to remove dropout from the policy__, probably at our peril. It could be better without it. On the other hand, dropout facilitates exploration... and adds noize to the policy radient :(\n",
    "\n",
    "We implemented the network and actor-critic with [Lasagne](https://github.com/Lasagne/Lasagne/) + [AgentNet](https://github.com/yandexdataschool/agentnet) and ran experiments with early version of [tinyverse](https://github.com/yandexdataschool/tinyverse) to speed up training.\n",
    "\n",
    "#### Improvement ideas\n",
    "- dropout :DDD\n",
    "- agent still sometimes misses the ultimate gate, giving him -30k reward. It may be a good idea to add more reward for the very last gate AND make sure agent can distinguish red gate from others\n",
    "- try different framebuffer size or recurrent memory\n",
    "- change image preprocessing so that it's clearer\n",
    "- add intrinsic motivation-based exploration\n",
    "- incorporate the original rewards (whatever they mean) with the new ones\n",
    "- try [optimality tightening](https://arxiv.org/abs/1611.01606)\n",
    "- train for 8 more hours >.<\n",
    "\n",
    "#### boasting\n",
    "- Total coding time: 2h 11m (with tinyverse and lasagne/agentnet)\n",
    "- Final model training time: ~8h (with GPU gf1080)\n",
    "\n",
    "\n"
   ]
  },
  {
   "cell_type": "markdown",
   "metadata": {},
   "source": [
    "### Run stuff"
   ]
  },
  {
   "cell_type": "code",
   "execution_count": 1,
   "metadata": {
    "collapsed": false
   },
   "outputs": [
    {
     "name": "stdout",
     "output_type": "stream",
     "text": [
      "Starting job # 0 in a separate thread.\n"
     ]
    }
   ],
   "source": [
    "%%bash --bg\n",
    "#create several player processes. Each process plays games and saves results\n",
    "#the loop below spawns 10 players. If you are doing this on a laptop, reducing to 2-4 is okay\n",
    "for i in `seq 1 10`; \n",
    "do\n",
    "        THEANO_FLAGS=device=cpu,floatX=float32 python tinyverse atari.py play -b 3 --port 6789 &\n",
    "done  "
   ]
  },
  {
   "cell_type": "code",
   "execution_count": 3,
   "metadata": {
    "collapsed": false
   },
   "outputs": [
    {
     "name": "stdout",
     "output_type": "stream",
     "text": [
      "Starting job # 2 in a separate thread.\n"
     ]
    }
   ],
   "source": [
    "%%bash --bg\n",
    "#create learner process on GPU. batch size 10\n",
    "THEANO_FLAGS=device=gpu4,floatX=float32 python tinyverse atari.py train -b 10 --port 6789 &"
   ]
  },
  {
   "cell_type": "markdown",
   "metadata": {},
   "source": [
    "### View stuff"
   ]
  },
  {
   "cell_type": "code",
   "execution_count": 2,
   "metadata": {
    "collapsed": false,
    "scrolled": true
   },
   "outputs": [
    {
     "name": "stdout",
     "output_type": "stream",
     "text": [
      "Episode finished after 781 timesteps with reward=20\n",
      "Episode finished after 731 timesteps with reward=20\n",
      "Episode finished after 737 timesteps with reward=20\n",
      "Episode finished after 758 timesteps with reward=20\n",
      "Episode finished after 811 timesteps with reward=20\n"
     ]
    },
    {
     "name": "stderr",
     "output_type": "stream",
     "text": [
      "[2017-01-18 08:11:03,138] Making new env: Skiing-v0\n",
      "[2017-01-18 08:11:03,171] Clearing 12 monitor files from previous run (because force=True was provided)\n",
      "[2017-01-18 08:11:03,188] Starting new video recorder writing to /home/hedgedir/tinyversers/skiverse/records/openaigym.video.0.20910.video000000.mp4\n",
      "[2017-01-18 08:11:11,969] Starting new video recorder writing to /home/hedgedir/tinyversers/skiverse/records/openaigym.video.0.20910.video000001.mp4\n",
      "[2017-01-18 08:11:41,854] Finished writing results. You can upload them to the scoreboard via gym.upload('/home/hedgedir/tinyversers/skiverse/records')\n"
     ]
    }
   ],
   "source": [
    "%%bash\n",
    "#play 5 games, show results (re-run whenever you want score)\n",
    "#Tris particular score was recorded 7 hours through training\n",
    "python tinyverse atari.py eval -n 5 --port 6789"
   ]
  },
  {
   "cell_type": "markdown",
   "metadata": {},
   "source": [
    "### Upload stuff"
   ]
  },
  {
   "cell_type": "code",
   "execution_count": 10,
   "metadata": {
    "collapsed": false
   },
   "outputs": [
    {
     "name": "stderr",
     "output_type": "stream",
     "text": [
      "[2017-01-18 08:23:38,440] Making new env: Skiing-v0\n",
      "[2017-01-18 08:23:38,489] Clearing 6 monitor files from previous run (because force=True was provided)\n",
      "[2017-01-18 08:23:38,516] Starting new video recorder writing to /home/hedgedir/tinyversers/skiverse/records/openaigym.video.0.2488.video000000.mp4\n",
      "[2017-01-18 08:23:47,232] Starting new video recorder writing to /home/hedgedir/tinyversers/skiverse/records/openaigym.video.0.2488.video000001.mp4\n"
     ]
    },
    {
     "name": "stdout",
     "output_type": "stream",
     "text": [
      "Episode finished after 735 timesteps with reward=-4168.0\n",
      "Episode finished after 847 timesteps with reward=-4183.0\n",
      "Episode finished after 729 timesteps with reward=-3646.0\n",
      "Episode finished after 749 timesteps with reward=-4181.0\n",
      "Episode finished after 5991 timesteps with reward=-30000.0\n",
      "Episode finished after 730 timesteps with reward=-3629.0\n",
      "Episode finished after 781 timesteps with reward=-3854.0\n"
     ]
    },
    {
     "name": "stderr",
     "output_type": "stream",
     "text": [
      "[2017-01-18 08:25:25,809] Starting new video recorder writing to /home/hedgedir/tinyversers/skiverse/records/openaigym.video.0.2488.video000008.mp4\n"
     ]
    },
    {
     "name": "stdout",
     "output_type": "stream",
     "text": [
      "Episode finished after 786 timesteps with reward=-3921.0\n",
      "Episode finished after 749 timesteps with reward=-3716.0\n",
      "Episode finished after 848 timesteps with reward=-4237.0\n",
      "Episode finished after 781 timesteps with reward=-3906.0\n",
      "Episode finished after 743 timesteps with reward=-3623.0\n",
      "Episode finished after 771 timesteps with reward=-3834.0\n",
      "Episode finished after 800 timesteps with reward=-4022.0\n",
      "Episode finished after 751 timesteps with reward=-3746.0\n",
      "Episode finished after 774 timesteps with reward=-3867.0\n",
      "Episode finished after 790 timesteps with reward=-4441.0\n",
      "Episode finished after 844 timesteps with reward=-4188.0\n",
      "Episode finished after 794 timesteps with reward=-3979.0\n",
      "Episode finished after 786 timesteps with reward=-3901.0\n",
      "Episode finished after 731 timesteps with reward=-3644.0\n",
      "Episode finished after 738 timesteps with reward=-3641.0\n",
      "Episode finished after 743 timesteps with reward=-3659.0\n",
      "Episode finished after 763 timesteps with reward=-3738.0\n",
      "Episode finished after 737 timesteps with reward=-3691.0\n",
      "Episode finished after 750 timesteps with reward=-3766.0\n"
     ]
    },
    {
     "name": "stderr",
     "output_type": "stream",
     "text": [
      "[2017-01-18 08:27:47,617] Starting new video recorder writing to /home/hedgedir/tinyversers/skiverse/records/openaigym.video.0.2488.video000027.mp4\n"
     ]
    },
    {
     "name": "stdout",
     "output_type": "stream",
     "text": [
      "Episode finished after 856 timesteps with reward=-4280.0\n",
      "Episode finished after 864 timesteps with reward=-4252.0\n",
      "Episode finished after 6015 timesteps with reward=-30000.0\n",
      "Episode finished after 737 timesteps with reward=-3734.0\n",
      "Episode finished after 783 timesteps with reward=-3902.0\n",
      "Episode finished after 859 timesteps with reward=-4303.0\n",
      "Episode finished after 739 timesteps with reward=-3674.0\n",
      "Episode finished after 870 timesteps with reward=-4823.0\n",
      "Episode finished after 714 timesteps with reward=-3693.0\n",
      "Episode finished after 753 timesteps with reward=-3779.0\n",
      "Episode finished after 774 timesteps with reward=-3931.0\n",
      "Episode finished after 877 timesteps with reward=-4386.0\n",
      "Episode finished after 797 timesteps with reward=-4022.0\n",
      "Episode finished after 753 timesteps with reward=-3706.0\n",
      "Episode finished after 741 timesteps with reward=-4183.0\n",
      "Episode finished after 803 timesteps with reward=-4040.0\n",
      "Episode finished after 752 timesteps with reward=-3718.0\n",
      "Episode finished after 737 timesteps with reward=-3686.0\n",
      "Episode finished after 765 timesteps with reward=-3876.0\n",
      "Episode finished after 766 timesteps with reward=-3841.0\n",
      "Episode finished after 762 timesteps with reward=-3846.0\n",
      "Episode finished after 741 timesteps with reward=-3684.0\n",
      "Episode finished after 787 timesteps with reward=-3911.0\n",
      "Episode finished after 804 timesteps with reward=-4037.0\n",
      "Episode finished after 795 timesteps with reward=-3927.0\n",
      "Episode finished after 2897 timesteps with reward=-14964.0\n",
      "Episode finished after 856 timesteps with reward=-4278.0\n",
      "Episode finished after 739 timesteps with reward=-3716.0\n",
      "Episode finished after 6015 timesteps with reward=-30000.0\n",
      "Episode finished after 768 timesteps with reward=-3874.0\n",
      "Episode finished after 752 timesteps with reward=-3741.0\n",
      "Episode finished after 786 timesteps with reward=-3959.0\n",
      "Episode finished after 780 timesteps with reward=-3889.0\n",
      "Episode finished after 812 timesteps with reward=-3954.0\n",
      "Episode finished after 746 timesteps with reward=-3723.0\n",
      "Episode finished after 812 timesteps with reward=-3936.0\n",
      "Episode finished after 740 timesteps with reward=-3674.0\n"
     ]
    },
    {
     "name": "stderr",
     "output_type": "stream",
     "text": [
      "[2017-01-18 08:34:16,928] Starting new video recorder writing to /home/hedgedir/tinyversers/skiverse/records/openaigym.video.0.2488.video000064.mp4\n"
     ]
    },
    {
     "name": "stdout",
     "output_type": "stream",
     "text": [
      "Episode finished after 786 timesteps with reward=-3869.0\n",
      "Episode finished after 792 timesteps with reward=-4014.0\n",
      "Episode finished after 790 timesteps with reward=-3904.0\n",
      "Episode finished after 855 timesteps with reward=-4303.0\n",
      "Episode finished after 726 timesteps with reward=-3618.0\n",
      "Episode finished after 764 timesteps with reward=-3857.0\n",
      "Episode finished after 861 timesteps with reward=-4280.0\n",
      "Episode finished after 743 timesteps with reward=-3726.0\n",
      "Episode finished after 854 timesteps with reward=-4280.0\n",
      "Episode finished after 735 timesteps with reward=-3663.0\n",
      "Episode finished after 745 timesteps with reward=-3684.0\n",
      "Episode finished after 729 timesteps with reward=-3648.0\n",
      "Episode finished after 788 timesteps with reward=-3864.0\n",
      "Episode finished after 770 timesteps with reward=-3829.0\n",
      "Episode finished after 738 timesteps with reward=-3706.0\n",
      "Episode finished after 756 timesteps with reward=-3731.0\n",
      "Episode finished after 803 timesteps with reward=-3927.0\n",
      "Episode finished after 751 timesteps with reward=-3734.0\n",
      "Episode finished after 5983 timesteps with reward=-30000.0\n",
      "Episode finished after 754 timesteps with reward=-4297.0\n",
      "Episode finished after 803 timesteps with reward=-3979.0\n",
      "Episode finished after 742 timesteps with reward=-3723.0\n",
      "Episode finished after 768 timesteps with reward=-3801.0\n",
      "Episode finished after 774 timesteps with reward=-3871.0\n",
      "Episode finished after 814 timesteps with reward=-3995.0\n",
      "Episode finished after 786 timesteps with reward=-3914.0\n",
      "Episode finished after 769 timesteps with reward=-3851.0\n",
      "Episode finished after 743 timesteps with reward=-4186.0\n",
      "Episode finished after 743 timesteps with reward=-3713.0\n",
      "Episode finished after 786 timesteps with reward=-3901.0\n",
      "Episode finished after 746 timesteps with reward=-3663.0\n",
      "Episode finished after 861 timesteps with reward=-4215.0\n",
      "Episode finished after 742 timesteps with reward=-3653.0\n",
      "Episode finished after 768 timesteps with reward=-3774.0\n",
      "Episode finished after 780 timesteps with reward=-3889.0\n",
      "Episode finished after 851 timesteps with reward=-4275.0\n"
     ]
    },
    {
     "name": "stderr",
     "output_type": "stream",
     "text": [
      "[2017-01-18 08:39:30,417] Finished writing results. You can upload them to the scoreboard via gym.upload('/home/hedgedir/tinyversers/skiverse/records')\n"
     ]
    },
    {
     "name": "stdout",
     "output_type": "stream",
     "text": [
      "Episode finished after 745 timesteps with reward=-4149.0\n"
     ]
    },
    {
     "data": {
      "text/plain": [
       "[-4168.0,\n",
       " -4183.0,\n",
       " -3646.0,\n",
       " -4181.0,\n",
       " -30000.0,\n",
       " -3629.0,\n",
       " -3854.0,\n",
       " -3921.0,\n",
       " -3716.0,\n",
       " -4237.0,\n",
       " -3906.0,\n",
       " -3623.0,\n",
       " -3834.0,\n",
       " -4022.0,\n",
       " -3746.0,\n",
       " -3867.0,\n",
       " -4441.0,\n",
       " -4188.0,\n",
       " -3979.0,\n",
       " -3901.0,\n",
       " -3644.0,\n",
       " -3641.0,\n",
       " -3659.0,\n",
       " -3738.0,\n",
       " -3691.0,\n",
       " -3766.0,\n",
       " -4280.0,\n",
       " -4252.0,\n",
       " -30000.0,\n",
       " -3734.0,\n",
       " -3902.0,\n",
       " -4303.0,\n",
       " -3674.0,\n",
       " -4823.0,\n",
       " -3693.0,\n",
       " -3779.0,\n",
       " -3931.0,\n",
       " -4386.0,\n",
       " -4022.0,\n",
       " -3706.0,\n",
       " -4183.0,\n",
       " -4040.0,\n",
       " -3718.0,\n",
       " -3686.0,\n",
       " -3876.0,\n",
       " -3841.0,\n",
       " -3846.0,\n",
       " -3684.0,\n",
       " -3911.0,\n",
       " -4037.0,\n",
       " -3927.0,\n",
       " -14964.0,\n",
       " -4278.0,\n",
       " -3716.0,\n",
       " -30000.0,\n",
       " -3874.0,\n",
       " -3741.0,\n",
       " -3959.0,\n",
       " -3889.0,\n",
       " -3954.0,\n",
       " -3723.0,\n",
       " -3936.0,\n",
       " -3674.0,\n",
       " -3869.0,\n",
       " -4014.0,\n",
       " -3904.0,\n",
       " -4303.0,\n",
       " -3618.0,\n",
       " -3857.0,\n",
       " -4280.0,\n",
       " -3726.0,\n",
       " -4280.0,\n",
       " -3663.0,\n",
       " -3684.0,\n",
       " -3648.0,\n",
       " -3864.0,\n",
       " -3829.0,\n",
       " -3706.0,\n",
       " -3731.0,\n",
       " -3927.0,\n",
       " -3734.0,\n",
       " -30000.0,\n",
       " -4297.0,\n",
       " -3979.0,\n",
       " -3723.0,\n",
       " -3801.0,\n",
       " -3871.0,\n",
       " -3995.0,\n",
       " -3914.0,\n",
       " -3851.0,\n",
       " -4186.0,\n",
       " -3713.0,\n",
       " -3901.0,\n",
       " -3663.0,\n",
       " -4215.0,\n",
       " -3653.0,\n",
       " -3774.0,\n",
       " -3889.0,\n",
       " -4275.0,\n",
       " -4149.0]"
      ]
     },
     "execution_count": 10,
     "metadata": {},
     "output_type": "execute_result"
    }
   ],
   "source": [
    "#same as python tinyverse skiing_original_reward.py eval -n 100\n",
    "\n",
    "from skiing_original_reward import make_experiment\n",
    "from tinyverse.database import Database\n",
    "db = Database(port=6789)\n",
    "exp = make_experiment(db)\n",
    "\n",
    "exp.evaluate(100)"
   ]
  },
  {
   "cell_type": "code",
   "execution_count": 16,
   "metadata": {
    "collapsed": false
   },
   "outputs": [
    {
     "name": "stderr",
     "output_type": "stream",
     "text": [
      "[2017-01-18 08:49:20,773] [Skiing-v0] Uploading 100 episodes of training data\n",
      "[2017-01-18 08:49:21,761] [Skiing-v0] Uploading videos of 5 training episodes (673553 bytes)\n",
      "[2017-01-18 08:49:23,241] [Skiing-v0] Creating evaluation object from ./records/ with learning curve and training video\n",
      "[2017-01-18 08:49:24,077] \n",
      "****************************************************\n",
      "You successfully uploaded your evaluation on Skiing-v0 to\n",
      "OpenAI Gym! You can find it at:\n",
      "\n",
      "    https://gym.openai.com/evaluations/eval_BSWA660qSIaVAsigWXhiBA\n",
      "\n",
      "****************************************************\n"
     ]
    }
   ],
   "source": [
    "import gym\n",
    "gym.upload(\"./records/\",\"alg_z0IkjjWzTmqXgECJ3e1iA\",\n",
    "           api_key=<your_api_key>)"
   ]
  },
  {
   "cell_type": "markdown",
   "metadata": {
    "collapsed": false
   },
   "source": [
    "# Some auxilary monitoring\n",
    "\n",
    "* The dashboard we used throughout training. A bit messy. Displays average reward per timestep * 5000."
   ]
  },
  {
   "cell_type": "code",
   "execution_count": 4,
   "metadata": {
    "collapsed": false
   },
   "outputs": [],
   "source": [
    "import numpy as np\n",
    "from matplotlib import pyplot as plt\n",
    "%matplotlib inline\n",
    "import theano\n",
    "import theano.tensor as T\n",
    "import pickle\n",
    "\n",
    "import atari\n",
    "from tinyverse.database import Database\n",
    "\n",
    "db = Database(port=6789)\n",
    "experiment=atari.make_experiment(db)\n"
   ]
  },
  {
   "cell_type": "code",
   "execution_count": 12,
   "metadata": {
    "collapsed": false
   },
   "outputs": [
    {
     "name": "stdout",
     "output_type": "stream",
     "text": [
      "n_sessions: 5253\n"
     ]
    },
    {
     "data": {
      "image/png": "[encoded data removed]",
      "text/plain": [
       "<matplotlib.figure.Figure at 0x7f36b434b470>"
      ]
     },
     "metadata": {},
     "output_type": "display_data"
    },
    {
     "name": "stdout",
     "output_type": "stream",
     "text": [
      "r\tV\t\tEnt\tLogits\n",
      "+0.0 +2.636 (+0.336) +0.925 | 0.30(-0.01) 0.12(+0.00) 0.59(+0.00)\n",
      "+0.0 +2.671 (+0.324) +0.831 | 0.32(-0.01) 0.06(+0.01) 0.62(+0.00)\n",
      "+0.0 +2.694 (+0.335) +0.978 | 0.46(+0.11) 0.42(-0.09) 0.12(-0.02)\n",
      "+0.0 +2.773 (+0.234) +0.566 | 0.07(+0.00) 0.09(+0.00) 0.83(-0.01)\n",
      "+0.0 +2.810 (+0.218) +1.079 | 0.24(-0.06) 0.39(-0.10) 0.36(+0.16)\n",
      "+0.0 +2.902 (+0.094) +1.051 | 0.31(+0.12) 0.47(-0.09) 0.22(-0.03)\n",
      "+0.0 +2.976 (+0.005) +1.029 | 0.26(+0.08) 0.23(+0.07) 0.51(-0.15)\n",
      "+0.0 +2.933 (+0.151) +1.046 | 0.34(-0.04) 0.46(+0.02) 0.20(+0.02)\n",
      "+0.0 +2.947 (+0.183) +1.068 | 0.35(+0.13) 0.23(-0.04) 0.42(-0.09)\n",
      "+0.0 +3.029 (+0.081) +0.662 | 0.26(+0.01) 0.72(-0.01) 0.02(+0.00)\n",
      "+0.0 +3.058 (+0.085) +0.906 | 0.29(-0.00) 0.60(+0.00) 0.11(+0.00)\n",
      "+1.0 +3.097 (+0.071) +1.065 | 0.31(-0.02) 0.45(+0.04) 0.24(-0.01)\n",
      "+0.0 +2.136 (+0.035) +1.006 | 0.54(+0.08) 0.24(-0.12) 0.21(+0.04)\n",
      "+0.0 +2.116 (+0.118) +1.090 | 0.31(-0.03) 0.39(+0.06) 0.30(-0.03)\n",
      "+0.0 +2.163 (+0.068) +1.003 | 0.21(+0.01) 0.55(-0.00) 0.24(-0.00)\n",
      "+0.0 +2.183 (+0.074) +1.075 | 0.27(+0.01) 0.29(-0.01) 0.44(-0.00)\n",
      "+0.0 +2.202 (+0.080) +1.026 | 0.35(+0.02) 0.18(-0.05) 0.48(+0.03)\n",
      "+0.0 +2.207 (+0.116) +0.820 | 0.33(-0.01) 0.05(+0.00) 0.62(+0.01)\n",
      "+0.0 +2.238 (+0.099) +0.777 | 0.27(+0.03) 0.05(+0.01) 0.68(-0.04)\n",
      "+0.0 +2.237 (+0.148) +0.693 | 0.20(-0.02) 0.05(-0.00) 0.75(+0.02)\n",
      "+0.0 +2.292 (+0.083) +0.111 | 0.02(+0.00) 0.00(+0.00) 0.98(-0.00)\n",
      "+0.0 +2.307 (+0.101) +0.127 | 0.02(+0.00) 0.01(+0.00) 0.98(-0.01)\n",
      "+0.0 +2.308 (+0.147) +0.091 | 0.01(-0.00) 0.00(+0.00) 0.98(+0.00)\n",
      "+0.0 +2.383 (+0.045) +0.903 | 0.27(+0.07) 0.12(-0.00) 0.61(-0.06)\n",
      "+0.0 +2.430 (+0.000) +0.903 | 0.32(+0.00) 0.10(+0.01) 0.58(-0.01)\n"
     ]
    },
    {
     "ename": "KeyboardInterrupt",
     "evalue": "",
     "output_type": "error",
     "traceback": [
      "\u001b[0;31m---------------------------------------------------------------------------\u001b[0m",
      "\u001b[0;31mKeyboardInterrupt\u001b[0m                         Traceback (most recent call last)",
      "\u001b[0;32m<ipython-input-12-a710b4fb1035>\u001b[0m in \u001b[0;36m<module>\u001b[0;34m()\u001b[0m\n\u001b[1;32m     33\u001b[0m     \u001b[0mR\u001b[0m\u001b[0;34m=\u001b[0m\u001b[0;36m0\u001b[0m\u001b[0;34m\u001b[0m\u001b[0m\n\u001b[1;32m     34\u001b[0m     \u001b[0;32mfor\u001b[0m \u001b[0mi\u001b[0m \u001b[0;32min\u001b[0m \u001b[0mrange\u001b[0m\u001b[0;34m(\u001b[0m\u001b[0;36m5000\u001b[0m\u001b[0;34m)\u001b[0m\u001b[0;34m[\u001b[0m\u001b[0;34m:\u001b[0m\u001b[0;34m:\u001b[0m\u001b[0;34m-\u001b[0m\u001b[0;36m1\u001b[0m\u001b[0;34m]\u001b[0m\u001b[0;34m:\u001b[0m\u001b[0;34m\u001b[0m\u001b[0m\n\u001b[0;32m---> 35\u001b[0;31m         \u001b[0ms\u001b[0m\u001b[0;34m,\u001b[0m\u001b[0ma\u001b[0m\u001b[0;34m,\u001b[0m\u001b[0mr\u001b[0m\u001b[0;34m,\u001b[0m\u001b[0md\u001b[0m\u001b[0;34m,\u001b[0m\u001b[0mm\u001b[0m \u001b[0;34m=\u001b[0m \u001b[0mdb\u001b[0m\u001b[0;34m.\u001b[0m\u001b[0mloads\u001b[0m\u001b[0;34m(\u001b[0m\u001b[0mdb\u001b[0m\u001b[0;34m.\u001b[0m\u001b[0mredis\u001b[0m\u001b[0;34m.\u001b[0m\u001b[0mlindex\u001b[0m\u001b[0;34m(\u001b[0m\u001b[0;34m'sessions'\u001b[0m\u001b[0;34m,\u001b[0m\u001b[0mi\u001b[0m\u001b[0;34m)\u001b[0m\u001b[0;34m)\u001b[0m\u001b[0;34m\u001b[0m\u001b[0m\n\u001b[0m\u001b[1;32m     36\u001b[0m         \u001b[0mR\u001b[0m \u001b[0;34m+=\u001b[0m \u001b[0msum\u001b[0m\u001b[0;34m(\u001b[0m\u001b[0mr\u001b[0m\u001b[0;34m)\u001b[0m\u001b[0;34m\u001b[0m\u001b[0m\n\u001b[1;32m     37\u001b[0m     \u001b[0mavg_reward_per_session\u001b[0m\u001b[0;34m.\u001b[0m\u001b[0mappend\u001b[0m\u001b[0;34m(\u001b[0m\u001b[0mR\u001b[0m\u001b[0;34m)\u001b[0m\u001b[0;34m\u001b[0m\u001b[0m\n",
      "\u001b[0;32m/anaconda3/lib/python3.5/site-packages/redis/client.py\u001b[0m in \u001b[0;36mlindex\u001b[0;34m(self, name, index)\u001b[0m\n\u001b[1;32m   1203\u001b[0m         \u001b[0mend\u001b[0m \u001b[0mof\u001b[0m \u001b[0mthe\u001b[0m \u001b[0mlist\u001b[0m\u001b[0;34m\u001b[0m\u001b[0m\n\u001b[1;32m   1204\u001b[0m         \"\"\"\n\u001b[0;32m-> 1205\u001b[0;31m         \u001b[0;32mreturn\u001b[0m \u001b[0mself\u001b[0m\u001b[0;34m.\u001b[0m\u001b[0mexecute_command\u001b[0m\u001b[0;34m(\u001b[0m\u001b[0;34m'LINDEX'\u001b[0m\u001b[0;34m,\u001b[0m \u001b[0mname\u001b[0m\u001b[0;34m,\u001b[0m \u001b[0mindex\u001b[0m\u001b[0;34m)\u001b[0m\u001b[0;34m\u001b[0m\u001b[0m\n\u001b[0m\u001b[1;32m   1206\u001b[0m \u001b[0;34m\u001b[0m\u001b[0m\n\u001b[1;32m   1207\u001b[0m     \u001b[0;32mdef\u001b[0m \u001b[0mlinsert\u001b[0m\u001b[0;34m(\u001b[0m\u001b[0mself\u001b[0m\u001b[0;34m,\u001b[0m \u001b[0mname\u001b[0m\u001b[0;34m,\u001b[0m \u001b[0mwhere\u001b[0m\u001b[0;34m,\u001b[0m \u001b[0mrefvalue\u001b[0m\u001b[0;34m,\u001b[0m \u001b[0mvalue\u001b[0m\u001b[0;34m)\u001b[0m\u001b[0;34m:\u001b[0m\u001b[0;34m\u001b[0m\u001b[0m\n",
      "\u001b[0;32m/anaconda3/lib/python3.5/site-packages/redis/client.py\u001b[0m in \u001b[0;36mexecute_command\u001b[0;34m(self, *args, **options)\u001b[0m\n\u001b[1;32m    570\u001b[0m         \u001b[0mconnection\u001b[0m \u001b[0;34m=\u001b[0m \u001b[0mpool\u001b[0m\u001b[0;34m.\u001b[0m\u001b[0mget_connection\u001b[0m\u001b[0;34m(\u001b[0m\u001b[0mcommand_name\u001b[0m\u001b[0;34m,\u001b[0m \u001b[0;34m**\u001b[0m\u001b[0moptions\u001b[0m\u001b[0;34m)\u001b[0m\u001b[0;34m\u001b[0m\u001b[0m\n\u001b[1;32m    571\u001b[0m         \u001b[0;32mtry\u001b[0m\u001b[0;34m:\u001b[0m\u001b[0;34m\u001b[0m\u001b[0m\n\u001b[0;32m--> 572\u001b[0;31m             \u001b[0mconnection\u001b[0m\u001b[0;34m.\u001b[0m\u001b[0msend_command\u001b[0m\u001b[0;34m(\u001b[0m\u001b[0;34m*\u001b[0m\u001b[0margs\u001b[0m\u001b[0;34m)\u001b[0m\u001b[0;34m\u001b[0m\u001b[0m\n\u001b[0m\u001b[1;32m    573\u001b[0m             \u001b[0;32mreturn\u001b[0m \u001b[0mself\u001b[0m\u001b[0;34m.\u001b[0m\u001b[0mparse_response\u001b[0m\u001b[0;34m(\u001b[0m\u001b[0mconnection\u001b[0m\u001b[0;34m,\u001b[0m \u001b[0mcommand_name\u001b[0m\u001b[0;34m,\u001b[0m \u001b[0;34m**\u001b[0m\u001b[0moptions\u001b[0m\u001b[0;34m)\u001b[0m\u001b[0;34m\u001b[0m\u001b[0m\n\u001b[1;32m    574\u001b[0m         \u001b[0;32mexcept\u001b[0m \u001b[0;34m(\u001b[0m\u001b[0mConnectionError\u001b[0m\u001b[0;34m,\u001b[0m \u001b[0mTimeoutError\u001b[0m\u001b[0;34m)\u001b[0m \u001b[0;32mas\u001b[0m \u001b[0me\u001b[0m\u001b[0;34m:\u001b[0m\u001b[0;34m\u001b[0m\u001b[0m\n",
      "\u001b[0;32m/anaconda3/lib/python3.5/site-packages/redis/connection.py\u001b[0m in \u001b[0;36msend_command\u001b[0;34m(self, *args)\u001b[0m\n\u001b[1;32m    561\u001b[0m     \u001b[0;32mdef\u001b[0m \u001b[0msend_command\u001b[0m\u001b[0;34m(\u001b[0m\u001b[0mself\u001b[0m\u001b[0;34m,\u001b[0m \u001b[0;34m*\u001b[0m\u001b[0margs\u001b[0m\u001b[0;34m)\u001b[0m\u001b[0;34m:\u001b[0m\u001b[0;34m\u001b[0m\u001b[0m\n\u001b[1;32m    562\u001b[0m         \u001b[0;34m\"Pack and send a command to the Redis server\"\u001b[0m\u001b[0;34m\u001b[0m\u001b[0m\n\u001b[0;32m--> 563\u001b[0;31m         \u001b[0mself\u001b[0m\u001b[0;34m.\u001b[0m\u001b[0msend_packed_command\u001b[0m\u001b[0;34m(\u001b[0m\u001b[0mself\u001b[0m\u001b[0;34m.\u001b[0m\u001b[0mpack_command\u001b[0m\u001b[0;34m(\u001b[0m\u001b[0;34m*\u001b[0m\u001b[0margs\u001b[0m\u001b[0;34m)\u001b[0m\u001b[0;34m)\u001b[0m\u001b[0;34m\u001b[0m\u001b[0m\n\u001b[0m\u001b[1;32m    564\u001b[0m \u001b[0;34m\u001b[0m\u001b[0m\n\u001b[1;32m    565\u001b[0m     \u001b[0;32mdef\u001b[0m \u001b[0mcan_read\u001b[0m\u001b[0;34m(\u001b[0m\u001b[0mself\u001b[0m\u001b[0;34m,\u001b[0m \u001b[0mtimeout\u001b[0m\u001b[0;34m=\u001b[0m\u001b[0;36m0\u001b[0m\u001b[0;34m)\u001b[0m\u001b[0;34m:\u001b[0m\u001b[0;34m\u001b[0m\u001b[0m\n",
      "\u001b[0;32m/anaconda3/lib/python3.5/site-packages/redis/connection.py\u001b[0m in \u001b[0;36msend_packed_command\u001b[0;34m(self, command)\u001b[0m\n\u001b[1;32m    541\u001b[0m                 \u001b[0mcommand\u001b[0m \u001b[0;34m=\u001b[0m \u001b[0;34m[\u001b[0m\u001b[0mcommand\u001b[0m\u001b[0;34m]\u001b[0m\u001b[0;34m\u001b[0m\u001b[0m\n\u001b[1;32m    542\u001b[0m             \u001b[0;32mfor\u001b[0m \u001b[0mitem\u001b[0m \u001b[0;32min\u001b[0m \u001b[0mcommand\u001b[0m\u001b[0;34m:\u001b[0m\u001b[0;34m\u001b[0m\u001b[0m\n\u001b[0;32m--> 543\u001b[0;31m                 \u001b[0mself\u001b[0m\u001b[0;34m.\u001b[0m\u001b[0m_sock\u001b[0m\u001b[0;34m.\u001b[0m\u001b[0msendall\u001b[0m\u001b[0;34m(\u001b[0m\u001b[0mitem\u001b[0m\u001b[0;34m)\u001b[0m\u001b[0;34m\u001b[0m\u001b[0m\n\u001b[0m\u001b[1;32m    544\u001b[0m         \u001b[0;32mexcept\u001b[0m \u001b[0msocket\u001b[0m\u001b[0;34m.\u001b[0m\u001b[0mtimeout\u001b[0m\u001b[0;34m:\u001b[0m\u001b[0;34m\u001b[0m\u001b[0m\n\u001b[1;32m    545\u001b[0m             \u001b[0mself\u001b[0m\u001b[0;34m.\u001b[0m\u001b[0mdisconnect\u001b[0m\u001b[0;34m(\u001b[0m\u001b[0;34m)\u001b[0m\u001b[0;34m\u001b[0m\u001b[0m\n",
      "\u001b[0;31mKeyboardInterrupt\u001b[0m: "
     ]
    }
   ],
   "source": [
    "avg_reward_per_session = []\n",
    "\n",
    "from IPython.display import clear_output\n",
    "while True:\n",
    "    if db.redis.exists(\"weights\"):\n",
    "        weights = db.loads(db.redis.get('weights'))\n",
    "        if any(map(np.any,map(np.isnan,weights))):\n",
    "            print(\"Weights broken!!!\")\n",
    "    \n",
    "    print(\"n_sessions:\",db.redis.llen(\"sessions\"))\n",
    "    plt.plot(avg_reward_per_session)\n",
    "    plt.xlabel(\"time (arbitrary ticks)\")\n",
    "    plt.ylabel(\"sum of rewards in 5k subsessions\")\n",
    "    plt.grid()\n",
    "    plt.show()\n",
    "    \n",
    "    \n",
    "    R=0\n",
    "    for i in range(5000)[::-1]:\n",
    "        s,a,r,d,m = db.loads(db.redis.lindex('sessions',i))\n",
    "        R += sum(r)\n",
    "    avg_reward_per_session.append(R)\n",
    "    clear_output(True)\n",
    "    "
   ]
  },
  {
   "cell_type": "code",
   "execution_count": 18,
   "metadata": {
    "collapsed": false
   },
   "outputs": [
    {
     "name": "stdout",
     "output_type": "stream",
     "text": [
      "root      6326 90.6  0.7 79039712 928644 pts/11 Rl+ 06:42   0:44 python tinyverse atari.py train -b 10\r\n",
      "root      6475 90.9  0.2 71643972 347380 pts/8 Rl   06:42   0:28 python tinyverse atari.py play -b 1\r\n",
      "root      6476 87.8  0.2 71643852 348072 pts/8 Rl   06:42   0:27 python tinyverse atari.py play -b 1\r\n",
      "root      6477 89.0  0.2 71643968 349932 pts/8 Rl   06:42   0:27 python tinyverse atari.py play -b 1\r\n",
      "root      6478 87.4  0.2 71643552 347084 pts/8 Rl   06:42   0:27 python tinyverse atari.py play -b 1\r\n",
      "root      6479 87.4  0.2 71643540 354384 pts/8 Rl   06:42   0:27 python tinyverse atari.py play -b 1\r\n",
      "root      6480 84.1  0.2 71643848 347368 pts/8 Rl   06:42   0:26 python tinyverse atari.py play -b 1\r\n",
      "root      6481 91.0  0.2 71643512 349676 pts/8 Rl   06:42   0:28 python tinyverse atari.py play -b 1\r\n",
      "root      6482 87.4  0.2 71643512 347188 pts/8 Sl   06:42   0:27 python tinyverse atari.py play -b 1\r\n",
      "root      6483 86.0  0.2 71643848 348648 pts/8 Rl   06:42   0:26 python tinyverse atari.py play -b 1\r\n",
      "root      6484 86.0  0.2 71643844 351244 pts/8 Rl   06:42   0:26 python tinyverse atari.py play -b 1\r\n",
      "root      6485 90.8  0.2 71643840 347592 pts/8 Rl   06:42   0:28 python tinyverse atari.py play -b 1\r\n",
      "root      6486 97.8  0.2 71645432 348740 pts/8 Rl   06:42   0:30 python tinyverse atari.py play -b 1\r\n",
      "root      6487 89.5  0.2 71643848 349260 pts/8 Rl   06:42   0:27 python tinyverse atari.py play -b 1\r\n",
      "root      6488 87.6  0.2 71643540 346468 pts/8 Rl   06:42   0:27 python tinyverse atari.py play -b 1\r\n",
      "root      6489 85.3  0.2 71643588 349764 pts/8 Rl   06:42   0:26 python tinyverse atari.py play -b 1\r\n",
      "root      6490 87.1  0.2 71643844 347828 pts/8 Rl   06:42   0:27 python tinyverse atari.py play -b 1\r\n",
      "root      6491 87.3  0.2 71643388 346572 pts/8 Rl   06:42   0:27 python tinyverse atari.py play -b 1\r\n",
      "root      6492 86.1  0.2 71643840 347660 pts/8 Rl   06:42   0:26 python tinyverse atari.py play -b 1\r\n",
      "root      6493 87.7  0.2 71643856 352008 pts/8 Rl   06:42   0:27 python tinyverse atari.py play -b 1\r\n",
      "root      6494 86.0  0.2 71643520 349620 pts/8 Rl   06:42   0:26 python tinyverse atari.py play -b 1\r\n",
      "root      6495 91.6  0.2 71643856 347504 pts/8 Rl   06:42   0:28 python tinyverse atari.py play -b 1\r\n",
      "root      6496 88.1  0.2 71643576 347772 pts/8 Rl   06:42   0:27 python tinyverse atari.py play -b 1\r\n",
      "root      6497 85.1  0.2 71643844 348192 pts/8 Rl   06:42   0:26 python tinyverse atari.py play -b 1\r\n",
      "root      6498 89.2  0.2 71643500 346368 pts/8 Rl   06:42   0:27 python tinyverse atari.py play -b 1\r\n",
      "root      6499 91.4  0.2 71643508 347040 pts/8 Rl   06:42   0:28 python tinyverse atari.py play -b 1\r\n",
      "root     11217  0.0  0.0   4448   796 pts/16   Ss+  06:43   0:00 /bin/sh -c ps aux | grep tinyverse\r\n",
      "root     11219  0.0  0.0  10472  2136 pts/16   R+   06:43   0:00 grep tinyverse\r\n"
     ]
    }
   ],
   "source": [
    "!ps aux | grep tinyverse"
   ]
  },
  {
   "cell_type": "markdown",
   "metadata": {},
   "source": [
    "# Dump weights"
   ]
  },
  {
   "cell_type": "code",
   "execution_count": 19,
   "metadata": {
    "collapsed": true
   },
   "outputs": [],
   "source": [
    "from tinyverse import Database\n",
    "from atari import AtariA3C\n",
    "db = Database(port=6789)\n",
    "agent = AtariA3C(db).agent\n",
    "db.load_all_params(agent)"
   ]
  },
  {
   "cell_type": "code",
   "execution_count": 27,
   "metadata": {
    "collapsed": false
   },
   "outputs": [],
   "source": [
    "from agentnet.utils.persistence import save,load\n",
    "save(agent.policy,\"weights_8h_training.pcl\")"
   ]
  },
  {
   "cell_type": "markdown",
   "metadata": {},
   "source": [
    "# massacre processes\n",
    "\n",
    "* Will soon make a cleaner version through ```python tinyverse clear```"
   ]
  },
  {
   "cell_type": "code",
   "execution_count": 23,
   "metadata": {
    "collapsed": false
   },
   "outputs": [],
   "source": [
    "!kill -9 $(ps aux | grep tinyverse | awk '{print $2}') #uncomment to hard kill all\n",
    "from tinyverse.database import Database\n",
    "db = Database()\n",
    "for key in db.redis.keys():\n",
    "    db.redis.delete(key)"
   ]
  }
 ],
 "metadata": {
  "anaconda-cloud": {},
  "kernelspec": {
   "display_name": "Python [conda root]",
   "language": "python",
   "name": "conda-root-py"
  },
  "language_info": {
   "codemirror_mode": {
    "name": "ipython",
    "version": 3
   },
   "file_extension": ".py",
   "mimetype": "text/x-python",
   "name": "python",
   "nbconvert_exporter": "python",
   "pygments_lexer": "ipython3",
   "version": "3.5.2"
  }
 },
 "nbformat": 4,
 "nbformat_minor": 1
}
