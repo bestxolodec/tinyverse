{
 "cells": [
  {
   "cell_type": "code",
   "execution_count": 8,
   "metadata": {
    "collapsed": false
   },
   "outputs": [
    {
     "name": "stdout",
     "output_type": "stream",
     "text": [
      "Starting job # 2 in a separate thread.\n"
     ]
    }
   ],
   "source": [
    "%%bash --bg\n",
    "#create several player processes. Each process plays games and saves results\n",
    "#the loop below spawns 10 players. If you are doing this on a laptop, reducing to 2-4 is okay\n",
    "for i in `seq 1 20`; \n",
    "do\n",
    "        THEANO_FLAGS=device=cpu,floatX=float32 python tinyverse neonrace.py play -b 1 &\n",
    "        sleep(20)\n",
    "done  "
   ]
  },
  {
   "cell_type": "code",
   "execution_count": 9,
   "metadata": {
    "collapsed": false
   },
   "outputs": [
    {
     "name": "stdout",
     "output_type": "stream",
     "text": [
      "2010 sessions,2010 sessions,2010 sessions,2011 sessions,2012 sessions,2013 sessions,2015 sessions,2017 sessions,2019 sessions,"
     ]
    },
    {
     "ename": "KeyboardInterrupt",
     "evalue": "",
     "output_type": "error",
     "traceback": [
      "\u001b[0;31m---------------------------------------------------------------------------\u001b[0m",
      "\u001b[0;31mKeyboardInterrupt\u001b[0m                         Traceback (most recent call last)",
      "\u001b[0;32m<ipython-input-9-64ec643bdbee>\u001b[0m in \u001b[0;36m<module>\u001b[0;34m()\u001b[0m\n\u001b[1;32m      3\u001b[0m \u001b[0mdb\u001b[0m \u001b[0;34m=\u001b[0m \u001b[0mDatabase\u001b[0m\u001b[0;34m(\u001b[0m\u001b[0;34m)\u001b[0m\u001b[0;34m\u001b[0m\u001b[0m\n\u001b[1;32m      4\u001b[0m \u001b[0;32mwhile\u001b[0m \u001b[0mdb\u001b[0m\u001b[0;34m.\u001b[0m\u001b[0mredis\u001b[0m\u001b[0;34m.\u001b[0m\u001b[0mllen\u001b[0m\u001b[0;34m(\u001b[0m\u001b[0;34m\"sessions\"\u001b[0m\u001b[0;34m)\u001b[0m \u001b[0;34m<\u001b[0m \u001b[0;36m2500\u001b[0m\u001b[0;34m:\u001b[0m\u001b[0;34m\u001b[0m\u001b[0m\n\u001b[0;32m----> 5\u001b[0;31m     \u001b[0mtime\u001b[0m\u001b[0;34m.\u001b[0m\u001b[0msleep\u001b[0m\u001b[0;34m(\u001b[0m\u001b[0;36m5\u001b[0m\u001b[0;34m)\u001b[0m\u001b[0;34m\u001b[0m\u001b[0m\n\u001b[0m\u001b[1;32m      6\u001b[0m     \u001b[0mprint\u001b[0m\u001b[0;34m(\u001b[0m\u001b[0mdb\u001b[0m\u001b[0;34m.\u001b[0m\u001b[0mredis\u001b[0m\u001b[0;34m.\u001b[0m\u001b[0mllen\u001b[0m\u001b[0;34m(\u001b[0m\u001b[0;34m\"sessions\"\u001b[0m\u001b[0;34m)\u001b[0m\u001b[0;34m,\u001b[0m\u001b[0;34m'sessions'\u001b[0m\u001b[0;34m,\u001b[0m\u001b[0mend\u001b[0m\u001b[0;34m=\u001b[0m\u001b[0;34m','\u001b[0m\u001b[0;34m)\u001b[0m\u001b[0;34m\u001b[0m\u001b[0m\n",
      "\u001b[0;31mKeyboardInterrupt\u001b[0m: "
     ]
    }
   ],
   "source": [
    "import time\n",
    "from tinyverse.database import Database\n",
    "db = Database()\n",
    "while db.redis.llen(\"sessions\") < 2500:\n",
    "    time.sleep(5)\n",
    "    print(db.redis.llen(\"sessions\"),'sessions',end=',')"
   ]
  },
  {
   "cell_type": "code",
   "execution_count": null,
   "metadata": {
    "collapsed": true
   },
   "outputs": [],
   "source": [
    "%%bash --bg\n",
    "#create learner process on GPU. batch size 10\n",
    "THEANO_FLAGS=device=gpu,floatX=float32 python tinyverse neonrace.py train -b 10 &"
   ]
  },
  {
   "cell_type": "code",
   "execution_count": 1,
   "metadata": {
    "collapsed": false
   },
   "outputs": [
    {
     "name": "stderr",
     "output_type": "stream",
     "text": [
      "/home/hedgedir/agentnet/agentnet/agent/recurrence.py:595: UserWarning: Warning: recurrent loop without unroll_scan got nonempty random state updates list. That happened because there is some source of randomness (e.g. dropout) inside recurrent step graph. To compile such graph, one must either call .get_automatic_updates() right after .get_output and pass these updates to a function, or use no_defalt_updates=True when compiling theano.function.\n",
      "  warn(\"Warning: recurrent loop without unroll_scan got nonempty random state updates list. That happened\"\n",
      "WARNING (theano.tensor.blas): We did not found a dynamic library into the library_dir of the library we use for blas. If you use ATLAS, make sure to compile it with dynamics library.\n",
      "[2017-01-17 19:13:50,386] We did not found a dynamic library into the library_dir of the library we use for blas. If you use ATLAS, make sure to compile it with dynamics library.\n"
     ]
    }
   ],
   "source": [
    "import numpy as np\n",
    "from matplotlib import pyplot as plt\n",
    "%matplotlib inline\n",
    "import theano\n",
    "import theano.tensor as T\n",
    "import pickle\n",
    "import neonrace\n",
    "from tinyverse.database import Database\n",
    "from agentnet.environment.session_batch import SessionBatchEnvironment\n",
    "\n",
    "\n",
    "db = Database()\n",
    "self=experiment=neonrace.make_experiment(db)\n",
    "agent = self.agent\n",
    "\n",
    "\n",
    "observation_shape=(1, 64, 64)  # same as env.observation_space.shape\n",
    "sequence_length=25  # how many steps to make before updating weights\n",
    "\n",
    "#make replay environment\n",
    "observations = T.tensor(theano.config.floatX,broadcastable=(False,)*(2+len(observation_shape)),\n",
    "                        name=\"observations[b,t,color,width,height]\")\n",
    "actions = T.imatrix(\"actions[b,t]\")\n",
    "rewards,is_alive = T.matrices(\"rewards[b,t]\",\"is_alive[b,t]\")\n",
    "prev_memory = [l.input_var for l in agent.agent_states.values()]\n",
    "\n",
    "\n",
    "\n",
    "replay = SessionBatchEnvironment(observations,\n",
    "                                 [observation_shape],\n",
    "                                 actions=actions,\n",
    "                                 rewards=rewards,\n",
    "                                 is_alive=is_alive,\n",
    "                                 preceding_agent_memories=prev_memory\n",
    "                                )\n",
    "\n",
    "#replay sessions\n",
    "_, _, h_seq, _, (logits_seq, V_seq) = agent.get_sessions(\n",
    "    replay,\n",
    "    session_length=sequence_length,\n",
    "    experience_replay=True,\n",
    "    unroll_scan=False,#speeds up compilation my 10x, slows down training by 20% (still faster than TF :P )\n",
    ")\n",
    "rng_updates = agent.get_automatic_updates()\n",
    "\n",
    "# compute pi(a|s) and log(pi(a|s)) manually [use logsoftmax]\n",
    "# we can't guarantee that theano optimizes logsoftmax automatically since it's still in dev\n",
    "logits_flat = logits_seq.reshape([-1,logits_seq.shape[-1]])\n",
    "policy_seq = T.nnet.softmax(logits_flat).reshape(logits_seq.shape)\n",
    "logpolicy_seq = T.nnet.logsoftmax(logits_flat).reshape(logits_seq.shape)\n",
    "\n",
    "#####################\n",
    "import lasagne\n",
    "from agentnet.learning import a2c\n",
    "# get policy gradient\n",
    "elwise_actor_loss,elwise_critic_loss = a2c.get_elementwise_objective(policy=logpolicy_seq,\n",
    "                                                                     treat_policy_as_logpolicy=True,\n",
    "                                                                     state_values=V_seq[:,:,0],\n",
    "                                                                     actions=replay.actions[0],\n",
    "                                                                     rewards=replay.rewards,\n",
    "                                                                     is_alive=replay.is_alive,\n",
    "                                                                     gamma_or_gammas=0.99,\n",
    "                                                                     n_steps=None,\n",
    "                                                                     n_steps_advantage=1,\n",
    "                                                                     return_separate=True)\n",
    "\n",
    "\n",
    "reg_entropy = 1e-2*T.mean(T.sum(policy_seq*logpolicy_seq,axis=-1))\n",
    "loss = elwise_actor_loss.mean() + 0.25*elwise_critic_loss.mean() + reg_entropy\n",
    "\n",
    "\n",
    "# Compute weight updates\n",
    "dV,dl = T.grad(-loss,[V_seq,logits_seq])\n",
    "#####################\n",
    "\n",
    "\n",
    "\n",
    "# compile train function\n",
    "inputs = [observations, actions, rewards, is_alive]+prev_memory\n",
    "eval_fun = theano.function(inputs, \n",
    "                           [policy_seq, V_seq,dV,logits_seq,dl],\n",
    "                           updates=rng_updates,on_unused_input='ignore')\n",
    "\n"
   ]
  },
  {
   "cell_type": "code",
   "execution_count": 2,
   "metadata": {
    "collapsed": false
   },
   "outputs": [
    {
     "name": "stdout",
     "output_type": "stream",
     "text": [
      "2005\n"
     ]
    }
   ],
   "source": [
    "avg_reward_per_session = []\n",
    "print(db.redis.llen(\"sessions\"))"
   ]
  },
  {
   "cell_type": "code",
   "execution_count": 3,
   "metadata": {
    "collapsed": false
   },
   "outputs": [
    {
     "data": {
      "text/plain": [
       "<matplotlib.image.AxesImage at 0x7efe85397438>"
      ]
     },
     "execution_count": 3,
     "metadata": {},
     "output_type": "execute_result"
    },
    {
     "data": {
      "image/png": "[encoded data removed]",
      "text/plain": [
       "<matplotlib.figure.Figure at 0x7eff47478278>"
      ]
     },
     "metadata": {},
     "output_type": "display_data"
    }
   ],
   "source": [
    "plt.imshow(db.get_session(0)[0][0,0])"
   ]
  },
  {
   "cell_type": "code",
   "execution_count": null,
   "metadata": {
    "collapsed": false
   },
   "outputs": [
    {
     "name": "stdout",
     "output_type": "stream",
     "text": [
      "n_sessions: 2139\n"
     ]
    },
    {
     "data": {
      "image/png": "[encoded data removed]",
      "text/plain": [
       "<matplotlib.figure.Figure at 0x7efe73f48978>"
      ]
     },
     "metadata": {},
     "output_type": "display_data"
    },
    {
     "name": "stdout",
     "output_type": "stream",
     "text": [
      "r\tV\t\tEnt\tLogits\n",
      "+0.0 +0.377 (-0.538) +0.799 | +0.66(-1.67) -3.21(+0.00) -1.21(+0.01) +3.90(+1.25) -1.62(+0.01) +2.67(+0.37) -0.74(+0.01) -0.08(+0.03)\n",
      "+0.0 -0.055 (+0.328) +0.784 | +1.77(+0.03) -1.94(-1.20) -4.90(+0.00) +5.03(+0.77) -0.79(+0.00) +4.29(+0.38) -1.08(+0.00) +0.04(+0.01)\n",
      "+0.0 -0.358 (+0.936) +0.905 | +0.85(+0.09) -2.21(+0.00) -2.36(+0.00) +3.69(+1.48) -0.95(-2.17) +2.64(+0.53) -0.37(+0.03) -0.06(+0.04)\n",
      "+0.0 -0.914 (+2.050) +1.003 | +0.12(-0.16) -3.69(+0.00) +0.26(+0.01) +3.40(+0.08) -2.39(+0.00) +3.09(+0.06) -0.33(+0.00) -0.11(+0.00)\n",
      "+0.0 -0.966 (+2.156) +0.654 | +1.12(-0.47) -1.01(+0.00) -3.35(+0.00) +4.57(+0.37) -1.02(+0.00) +2.96(+0.08) -1.11(+0.00) -0.09(+0.00)\n",
      "+0.0 -1.098 (+2.423) +0.623 | +0.10(-0.01) -0.74(-0.00) -3.29(+1.30) +4.75(-1.03) -0.80(-0.00) +3.33(-0.24) -1.32(-0.00) -0.11(-0.01)\n",
      "+0.0 -0.782 (+1.793) +0.889 | +0.90(+0.06) -0.59(-1.44) -4.66(+0.00) +3.92(+1.05) +0.66(+0.04) +2.44(+0.25) -0.50(+0.01) -0.03(+0.02)\n",
      "+0.0 -1.156 (+2.544) +0.541 | +0.34(-0.00) -0.90(+0.73) -4.29(-0.00) +5.09(-0.62) -0.88(-0.00) +3.36(-0.10) -0.35(-0.00) -0.06(-0.00)\n",
      "+0.0 -0.983 (+2.199) +1.090 | +0.25(-0.03) -0.55(-0.01) -1.52(-0.01) +2.86(-0.50) -1.77(-0.00) +2.86(+0.59) -0.64(-0.01) -0.17(-0.02)\n",
      "+0.0 -0.717 (+1.671) +0.895 | +1.18(+0.03) -2.01(+0.00) -2.61(-0.58) +3.98(+0.35) -1.40(+0.00) +3.38(+0.20) -0.82(+0.00) -0.14(+0.01)\n",
      "+0.0 -0.872 (+1.983) +0.508 | +1.24(+1.25) -0.11(-0.01) -4.80(-0.00) +4.81(-1.15) +0.57(-0.01) +2.16(-0.07) -1.28(-0.00) -0.07(-0.01)\n",
      "+0.0 -0.558 (+1.356) +0.386 | -0.27(-1.32) -3.39(+0.00) -0.91(+0.00) +4.78(+1.20) -0.87(+0.00) +2.17(+0.09) -0.79(+0.01) -0.17(+0.01)\n",
      "+0.0 -0.898 (+2.039) +1.266 | -1.68(-0.01) -0.62(-0.02) +1.10(+0.97) +2.31(-0.41) -1.06(-0.01) +2.48(-0.49) -1.85(-0.01) -0.35(-0.03)\n",
      "+0.0 -0.632 (+1.510) +0.203 | +0.54(-0.16) -0.66(+0.00) -3.09(+0.00) +5.32(+0.15) -0.58(+0.00) +1.26(+0.01) -1.60(+0.00) -0.12(+0.00)\n",
      "+0.0 -0.680 (+1.609) +0.255 | +0.11(-0.00) -2.72(-0.00) -1.43(-0.00) +5.29(-1.05) -1.00(-0.00) +2.08(+1.06) -1.10(-0.00) -0.28(-0.00)\n",
      "+0.0 -0.409 (+1.070) +0.412 | -0.75(-0.00) -1.05(-0.00) -2.13(-0.00) +4.58(-0.39) +0.35(-0.00) +1.87(+0.40) -1.58(-0.00) -0.27(-0.00)\n",
      "+0.0 -0.308 (+0.870) +0.244 | -0.04(+0.01) -1.44(+0.00) -1.13(+0.00) +4.68(+1.30) +0.01(+0.01) +0.28(-1.35) -1.88(+0.00) -0.45(+0.01)\n",
      "+0.0 -0.657 (+1.570) +1.418 | -1.02(-0.03) -0.20(-0.07) +1.33(-0.35) +2.13(+0.72) +0.60(-0.17) -1.02(-0.03) -1.65(-0.02) -0.51(-0.05)\n",
      "+0.0 -0.281 (+0.820) +0.391 | -2.46(+0.00) -2.60(+0.00) +5.16(+1.20) +2.98(+0.14) -2.26(+0.00) -0.04(+0.01) -2.30(-1.36) -0.66(+0.00)\n",
      "+0.0 -0.626 (+1.514) +0.793 | -2.22(+0.00) -1.61(+0.00) +3.90(+0.68) +2.06(+0.12) -2.21(+0.00) +1.93(-0.81) -2.29(+0.00) -0.59(+0.01)\n",
      "+0.0 -0.864 (+1.992) +0.950 | -0.58(-0.01) +0.86(+0.59) -1.15(-0.00) +3.22(-0.49) -0.37(-0.01) +1.40(-0.07) -2.14(-0.00) -0.39(-0.01)\n",
      "+0.0 -0.713 (+1.692) +1.271 | +0.03(+0.12) -2.01(+0.02) +1.14(+0.37) +2.62(+1.59) -1.60(+0.02) +1.71(-2.24) -1.48(+0.03) -0.30(+0.09)\n",
      "+0.0 -1.450 (+3.169) +1.059 | -1.10(-0.04) +0.47(+2.88) +2.85(-2.24) +0.49(-0.21) +0.63(-0.24) -0.42(-0.08) -2.78(-0.01) -0.60(-0.07)\n",
      "+0.0 -0.686 (+1.643) +0.186 | -0.39(-0.01) -0.10(-0.02) +4.92(-3.19) +0.11(-0.02) -1.32(+3.28) -4.14(-0.00) -0.45(-0.01) -0.49(-0.01)\n",
      "+0.0 +0.137 (+0.000) +0.816 | +0.84(+0.01) -2.75(+0.00) +3.27(-0.02) -0.72(+0.00) +0.27(+0.00) -1.88(+0.00) +0.28(+0.00) -0.19(+0.00)\n"
     ]
    }
   ],
   "source": [
    "#MEGA-controller of doom. Draws all the stuff i wanted to see for some reason. Don't try to analize\n",
    "from IPython.display import clear_output\n",
    "while True:\n",
    "    if db.redis.exists(\"weights\"):\n",
    "        weights = db.loads(db.redis.get('weights'))\n",
    "        if any(map(np.any,map(np.isnan,weights))):\n",
    "            print(\"Weights broken!!!\")\n",
    "    \n",
    "    print(\"n_sessions:\",db.redis.llen(\"sessions\"))\n",
    "    plt.plot(avg_reward_per_session)\n",
    "    plt.grid()\n",
    "    plt.show()\n",
    "    \n",
    "    \n",
    "    from scipy.stats import entropy\n",
    "    db.load_all_params(experiment.agent,errors='raise')\n",
    "    s,a,r,alive,mem = db.loads(db.redis.lindex('sessions',np.random.randint(1000)))\n",
    "\n",
    "    pi,v,dv,logits,dlogits = eval_fun([s],[a],[r],[alive],*[m[None] for m in mem])\n",
    "    \n",
    "    print (\"r\\tV\\t\\tEnt\\tLogits\")\n",
    "    for lo_i,dlo_i,pi_i,v_i,dv_i,r_i in zip(\n",
    "        logits.reshape(-1,8),\n",
    "        dlogits.reshape(-1,8),\n",
    "        pi.reshape(-1,8),\n",
    "        v.reshape(-1),\n",
    "        dv.reshape(-1),\n",
    "        r.reshape(-1)):\n",
    "        logit_str = map(lambda l,dl:(\"%+.2f(%+.2f)\"%(l,100*dl)),lo_i,dlo_i)\n",
    "        print (\"%+.1f\"%r_i, \"%+.3f\"%v_i,\"(%+.3f)\"%(100*dv_i),\"%+.3f\"%entropy(pi_i),\"|\",\" \".join(logit_str))\n",
    "    \n",
    "\n",
    "    R=0\n",
    "    n_iter = min(5000,db.num_sessions())\n",
    "    for i in range(n_iter)[::-1]:\n",
    "        s,a,r,d,m = db.loads(db.redis.lindex('sessions',i))\n",
    "        R += sum(r)\n",
    "    R *= 5000./n_iter\n",
    "    avg_reward_per_session.append(R)\n",
    "    clear_output(True)\n",
    "    "
   ]
  },
  {
   "cell_type": "code",
   "execution_count": 2,
   "metadata": {
    "collapsed": true
   },
   "outputs": [],
   "source": [
    "!kill -9 $(ps aux | grep tinyverse | awk '{print $2}') #uncomment to hard kill all\n",
    "from tinyverse.database import Database\n",
    "db = Database()\n",
    "for key in db.redis.keys():\n",
    "    db.redis.delete(key)"
   ]
  }
 ],
 "metadata": {
  "anaconda-cloud": {},
  "kernelspec": {
   "display_name": "Python [conda root]",
   "language": "python",
   "name": "conda-root-py"
  },
  "language_info": {
   "codemirror_mode": {
    "name": "ipython",
    "version": 3
   },
   "file_extension": ".py",
   "mimetype": "text/x-python",
   "name": "python",
   "nbconvert_exporter": "python",
   "pygments_lexer": "ipython3",
   "version": "3.5.2"
  }
 },
 "nbformat": 4,
 "nbformat_minor": 1
}
