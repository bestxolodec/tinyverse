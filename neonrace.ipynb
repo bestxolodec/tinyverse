{
 "cells": [
  {
   "cell_type": "code",
   "execution_count": 8,
   "metadata": {
    "collapsed": false
   },
   "outputs": [
    {
     "name": "stdout",
     "output_type": "stream",
     "text": [
      "Starting job # 2 in a separate thread.\n"
     ]
    }
   ],
   "source": [
    "%%bash --bg\n",
    "#on ubuntu/mac PLEASE RUN THE LOOP MANUALLY FOR NOW! (send one cmd every 20s in your bash, not here.)\n",
    "for i in `seq 1 20`; \n",
    "do\n",
    "        THEANO_FLAGS=device=cpu,floatX=float32 python tinyverse neonrace.py play -b 1 &\n",
    "        sleep(20)\n",
    "done  "
   ]
  },
  {
   "cell_type": "code",
   "execution_count": 9,
   "metadata": {
    "collapsed": false
   },
   "outputs": [
    {
     "name": "stdout",
     "output_type": "stream",
     "text": [
      "2010 sessions,2010 sessions,2010 sessions,2011 sessions,2012 sessions,2013 sessions,2015 sessions,2017 sessions,2019 sessions,"
     ]
    },
    {
     "ename": "KeyboardInterrupt",
     "evalue": "",
     "output_type": "error",
     "traceback": [
      "\u001b[0;31m---------------------------------------------------------------------------\u001b[0m",
      "\u001b[0;31mKeyboardInterrupt\u001b[0m                         Traceback (most recent call last)",
      "\u001b[0;32m<ipython-input-9-64ec643bdbee>\u001b[0m in \u001b[0;36m<module>\u001b[0;34m()\u001b[0m\n\u001b[1;32m      3\u001b[0m \u001b[0mdb\u001b[0m \u001b[0;34m=\u001b[0m \u001b[0mDatabase\u001b[0m\u001b[0;34m(\u001b[0m\u001b[0;34m)\u001b[0m\u001b[0;34m\u001b[0m\u001b[0m\n\u001b[1;32m      4\u001b[0m \u001b[0;32mwhile\u001b[0m \u001b[0mdb\u001b[0m\u001b[0;34m.\u001b[0m\u001b[0mredis\u001b[0m\u001b[0;34m.\u001b[0m\u001b[0mllen\u001b[0m\u001b[0;34m(\u001b[0m\u001b[0;34m\"sessions\"\u001b[0m\u001b[0;34m)\u001b[0m \u001b[0;34m<\u001b[0m \u001b[0;36m2500\u001b[0m\u001b[0;34m:\u001b[0m\u001b[0;34m\u001b[0m\u001b[0m\n\u001b[0;32m----> 5\u001b[0;31m     \u001b[0mtime\u001b[0m\u001b[0;34m.\u001b[0m\u001b[0msleep\u001b[0m\u001b[0;34m(\u001b[0m\u001b[0;36m5\u001b[0m\u001b[0;34m)\u001b[0m\u001b[0;34m\u001b[0m\u001b[0m\n\u001b[0m\u001b[1;32m      6\u001b[0m     \u001b[0mprint\u001b[0m\u001b[0;34m(\u001b[0m\u001b[0mdb\u001b[0m\u001b[0;34m.\u001b[0m\u001b[0mredis\u001b[0m\u001b[0;34m.\u001b[0m\u001b[0mllen\u001b[0m\u001b[0;34m(\u001b[0m\u001b[0;34m\"sessions\"\u001b[0m\u001b[0;34m)\u001b[0m\u001b[0;34m,\u001b[0m\u001b[0;34m'sessions'\u001b[0m\u001b[0;34m,\u001b[0m\u001b[0mend\u001b[0m\u001b[0;34m=\u001b[0m\u001b[0;34m','\u001b[0m\u001b[0;34m)\u001b[0m\u001b[0;34m\u001b[0m\u001b[0m\n",
      "\u001b[0;31mKeyboardInterrupt\u001b[0m: "
     ]
    }
   ],
   "source": [
    "import time\n",
    "from tinyverse.database import Database\n",
    "db = Database()\n",
    "while db.redis.llen(\"sessions\") < 2500:\n",
    "    time.sleep(5)\n",
    "    print(db.redis.llen(\"sessions\"),'sessions',end=',')"
   ]
  },
  {
   "cell_type": "code",
   "execution_count": null,
   "metadata": {
    "collapsed": true
   },
   "outputs": [],
   "source": [
    "%%bash --bg\n",
    "#create learner process on GPU. batch size 10\n",
    "THEANO_FLAGS=device=gpu,floatX=float32 python tinyverse neonrace.py train -b 10 &"
   ]
  },
  {
   "cell_type": "code",
   "execution_count": 11,
   "metadata": {
    "collapsed": false
   },
   "outputs": [
    {
     "name": "stderr",
     "output_type": "stream",
     "text": [
      "/home/hedgedir/agentnet/agentnet/agent/recurrence.py:595: UserWarning: Warning: recurrent loop without unroll_scan got nonempty random state updates list. That happened because there is some source of randomness (e.g. dropout) inside recurrent step graph. To compile such graph, one must either call .get_automatic_updates() right after .get_output and pass these updates to a function, or use no_defalt_updates=True when compiling theano.function.\n",
      "  warn(\"Warning: recurrent loop without unroll_scan got nonempty random state updates list. That happened\"\n"
     ]
    }
   ],
   "source": [
    "import numpy as np\n",
    "from matplotlib import pyplot as plt\n",
    "%matplotlib inline\n",
    "import theano\n",
    "import theano.tensor as T\n",
    "import pickle\n",
    "import neonrace\n",
    "from tinyverse.database import Database\n",
    "from agentnet.environment.session_batch import SessionBatchEnvironment\n",
    "\n",
    "\n",
    "db = Database()\n",
    "self=experiment=neonrace.make_experiment(db)\n",
    "agent = self.agent\n",
    "\n",
    "\n",
    "observation_shape=(1, 64, 64)  # same as env.observation_space.shape\n",
    "sequence_length=25  # how many steps to make before updating weights\n",
    "\n",
    "#make replay environment\n",
    "observations = T.tensor(theano.config.floatX,broadcastable=(False,)*(2+len(observation_shape)),\n",
    "                        name=\"observations[b,t,color,width,height]\")\n",
    "actions = T.imatrix(\"actions[b,t]\")\n",
    "rewards,is_alive = T.matrices(\"rewards[b,t]\",\"is_alive[b,t]\")\n",
    "prev_memory = [l.input_var for l in agent.agent_states.values()]\n",
    "\n",
    "\n",
    "\n",
    "replay = SessionBatchEnvironment(observations,\n",
    "                                 [observation_shape],\n",
    "                                 actions=actions,\n",
    "                                 rewards=rewards,\n",
    "                                 is_alive=is_alive,\n",
    "                                 preceding_agent_memories=prev_memory\n",
    "                                )\n",
    "\n",
    "#replay sessions\n",
    "_, _, h_seq, _, (logits_seq, V_seq) = agent.get_sessions(\n",
    "    replay,\n",
    "    session_length=sequence_length,\n",
    "    experience_replay=True,\n",
    "    unroll_scan=False,#speeds up compilation my 10x, slows down training by 20% (still faster than TF :P )\n",
    ")\n",
    "rng_updates = agent.get_automatic_updates()\n",
    "\n",
    "# compute pi(a|s) and log(pi(a|s)) manually [use logsoftmax]\n",
    "# we can't guarantee that theano optimizes logsoftmax automatically since it's still in dev\n",
    "logits_flat = logits_seq.reshape([-1,logits_seq.shape[-1]])\n",
    "policy_seq = T.nnet.softmax(logits_flat).reshape(logits_seq.shape)\n",
    "logpolicy_seq = T.nnet.logsoftmax(logits_flat).reshape(logits_seq.shape)\n",
    "\n",
    "#####################\n",
    "import lasagne\n",
    "from agentnet.learning import a2c\n",
    "# get policy gradient\n",
    "elwise_actor_loss,elwise_critic_loss = a2c.get_elementwise_objective(policy=logpolicy_seq,\n",
    "                                                                     treat_policy_as_logpolicy=True,\n",
    "                                                                     state_values=V_seq[:,:,0],\n",
    "                                                                     actions=replay.actions[0],\n",
    "                                                                     rewards=replay.rewards*1e-3,\n",
    "                                                                     is_alive=replay.is_alive,\n",
    "                                                                     gamma_or_gammas=0.99,\n",
    "                                                                     n_steps=None,\n",
    "                                                                     n_steps_advantage=1,\n",
    "                                                                     return_separate=True)\n",
    "\n",
    "\n",
    "reg_entropy = 1e-2*T.mean(T.sum(policy_seq*logpolicy_seq,axis=-1))\n",
    "loss = elwise_actor_loss.mean() + 0.25*elwise_critic_loss.mean() + reg_entropy\n",
    "\n",
    "\n",
    "# Compute weight updates\n",
    "dV,dl = T.grad(-loss,[V_seq,logits_seq])\n",
    "#####################\n",
    "\n",
    "\n",
    "\n",
    "# compile train function\n",
    "inputs = [observations, actions, rewards, is_alive]+prev_memory\n",
    "eval_fun = theano.function(inputs, \n",
    "                           [policy_seq, V_seq,dV,logits_seq,dl],\n",
    "                           updates=rng_updates,on_unused_input='ignore')\n",
    "\n"
   ]
  },
  {
   "cell_type": "code",
   "execution_count": 2,
   "metadata": {
    "collapsed": false
   },
   "outputs": [
    {
     "name": "stdout",
     "output_type": "stream",
     "text": [
      "2005\n"
     ]
    }
   ],
   "source": [
    "avg_reward_per_session = []\n",
    "print(db.redis.llen(\"sessions\"))"
   ]
  },
  {
   "cell_type": "code",
   "execution_count": 3,
   "metadata": {
    "collapsed": false
   },
   "outputs": [
    {
     "data": {
      "text/plain": [
       "<matplotlib.image.AxesImage at 0x7efe85397438>"
      ]
     },
     "execution_count": 3,
     "metadata": {},
     "output_type": "execute_result"
    },
    {
     "data": {
      "image/png": "[encoded data removed]",
      "text/plain": [
       "<matplotlib.figure.Figure at 0x7eff47478278>"
      ]
     },
     "metadata": {},
     "output_type": "display_data"
    }
   ],
   "source": [
    "plt.imshow(db.get_session(0)[0][0,0])"
   ]
  },
  {
   "cell_type": "code",
   "execution_count": null,
   "metadata": {
    "collapsed": false
   },
   "outputs": [
    {
     "name": "stdout",
     "output_type": "stream",
     "text": [
      "n_sessions: 5019\n"
     ]
    },
    {
     "data": {
      "image/png": "[encoded data removed]",
      "text/plain": [
       "<matplotlib.figure.Figure at 0x7efe654456a0>"
      ]
     },
     "metadata": {},
     "output_type": "display_data"
    },
    {
     "name": "stdout",
     "output_type": "stream",
     "text": [
      "r\tV\t\tEnt\tLogits\n",
      "+3.0 -0.048 (+0.776) +2.077 | +0.07 -0.15 -0.05 -0.08 +0.00 -0.16 -0.01 +0.01\n",
      "+8.0 -0.005 (+0.722) +2.077 | +0.03 -0.11 -0.14 -0.05 -0.12 -0.11 -0.15 +0.07\n",
      "+5.0 -0.105 (+0.570) +2.072 | +0.09 -0.30 -0.15 +0.01 +0.03 -0.19 +0.01 +0.02\n",
      "+3.0 +0.026 (+0.472) +2.073 | +0.12 -0.20 -0.06 -0.14 +0.07 -0.17 +0.02 +0.06\n",
      "+3.0 -0.034 (+0.417) +2.069 | +0.18 -0.23 -0.01 -0.06 -0.04 -0.28 +0.07 +0.05\n",
      "+0.0 -0.221 (+0.365) +2.072 | +0.10 -0.26 +0.06 -0.10 -0.13 -0.20 +0.00 +0.02\n",
      "+0.0 -0.252 (+0.369) +2.073 | +0.06 -0.27 -0.02 -0.05 -0.05 -0.22 +0.07 +0.00\n",
      "+1.0 -0.107 (+0.370) +2.066 | +0.19 -0.15 -0.05 -0.18 -0.11 -0.33 +0.05 +0.14\n",
      "+0.0 -0.076 (+0.353) +2.067 | +0.18 -0.30 -0.08 -0.09 -0.11 -0.26 +0.02 +0.12\n",
      "+17.0 -0.074 (+0.356) +2.069 | +0.23 -0.26 -0.02 -0.06 -0.23 -0.11 -0.08 -0.05\n",
      "+1.0 +0.032 (+0.014) +2.069 | +0.01 -0.32 -0.09 +0.09 -0.28 -0.18 +0.05 +0.03\n",
      "+0.0 +0.102 (-0.007) +2.074 | +0.06 -0.12 +0.02 -0.01 -0.17 -0.23 -0.15 +0.03\n",
      "+0.0 -0.079 (-0.004) +2.076 | -0.01 -0.01 -0.11 -0.11 -0.13 -0.23 -0.13 +0.05\n",
      "+0.0 -0.015 (-0.005) +2.074 | +0.06 -0.26 -0.02 -0.03 -0.08 -0.22 -0.15 +0.04\n",
      "+0.0 -0.195 (-0.001) +2.076 | +0.02 -0.13 -0.04 -0.08 -0.04 -0.26 -0.04 -0.02\n",
      "+0.0 -0.050 (-0.004) +2.075 | +0.05 -0.02 +0.02 +0.00 +0.06 -0.25 -0.11 -0.07\n",
      "+0.0 -0.155 (-0.002) +2.077 | -0.08 +0.07 -0.05 -0.01 +0.05 -0.15 -0.05 -0.03\n",
      "+0.0 -0.082 (-0.004) +2.078 | -0.01 -0.02 +0.11 +0.03 +0.04 -0.06 -0.07 -0.06\n",
      "+0.0 -0.127 (-0.003) +2.077 | +0.04 -0.02 +0.00 -0.11 +0.04 -0.08 +0.01 -0.15\n",
      "+0.0 -0.133 (-0.003) +2.073 | -0.08 +0.00 +0.18 -0.12 -0.07 -0.20 -0.14 +0.05\n",
      "+0.0 -0.089 (-0.004) +2.075 | +0.03 +0.03 +0.03 +0.04 +0.06 -0.23 -0.18 -0.00\n",
      "+0.0 -0.201 (-0.002) +2.074 | +0.11 -0.09 -0.03 -0.11 +0.07 -0.17 -0.17 +0.02\n",
      "+0.0 -0.039 (-0.005) +2.077 | +0.03 -0.14 -0.04 -0.04 -0.04 -0.16 -0.10 +0.03\n",
      "+0.0 -0.028 (-0.005) +2.076 | +0.09 -0.04 +0.05 +0.00 +0.02 -0.15 -0.07 +0.09\n",
      "+0.0 -0.298 (+0.000) +2.076 | +0.06 -0.08 -0.14 +0.00 +0.02 -0.13 -0.20 -0.08\n"
     ]
    }
   ],
   "source": [
    "#MEGA-controller of doom. Draws all the stuff i wanted to see for some reason. Don't try to analize\n",
    "from IPython.display import clear_output\n",
    "while True:\n",
    "    if db.redis.exists(\"weights\"):\n",
    "        weights = db.loads(db.redis.get('weights'))\n",
    "        if any(map(np.any,map(np.isnan,weights))):\n",
    "            print(\"Weights broken!!!\")\n",
    "    \n",
    "    print(\"n_sessions:\",db.redis.llen(\"sessions\"))\n",
    "    plt.plot(avg_reward_per_session)\n",
    "    plt.grid()\n",
    "    plt.show()\n",
    "    \n",
    "    \n",
    "    from scipy.stats import entropy\n",
    "    db.load_all_params(experiment.agent,errors='raise')\n",
    "    s,a,r,alive,mem = db.loads(db.redis.lindex('sessions',np.random.randint(1000)))\n",
    "\n",
    "    pi,v,dv,logits,dlogits = eval_fun([s],[a],[r],[alive],*[m[None] for m in mem])\n",
    "    \n",
    "    print (\"r\\tV\\t\\tEnt\\tLogits\")\n",
    "    for lo_i,dlo_i,pi_i,v_i,dv_i,r_i in zip(\n",
    "        logits.reshape(-1,8),\n",
    "        dlogits.reshape(-1,8),\n",
    "        pi.reshape(-1,8),\n",
    "        v.reshape(-1),\n",
    "        dv.reshape(-1),\n",
    "        r.reshape(-1)):\n",
    "        logit_str = map(lambda l,dl:(\"%+.2f\"%(l)),lo_i,dlo_i)\n",
    "        print (\"%+.1f\"%r_i, \"%+.3f\"%v_i,\"(%+.3f)\"%(dv_i),\"%+.3f\"%entropy(pi_i),\"|\",\" \".join(logit_str))\n",
    "    \n",
    "\n",
    "    R=0\n",
    "    n_iter = min(5000,db.num_sessions())\n",
    "    for i in range(n_iter)[::-1]:\n",
    "        s,a,r,d,m = db.loads(db.redis.lindex('sessions',i))\n",
    "        R += sum(r)\n",
    "    R *= 5000./n_iter\n",
    "    avg_reward_per_session.append(R)\n",
    "    clear_output(True)\n",
    "    "
   ]
  },
  {
   "cell_type": "code",
   "execution_count": 2,
   "metadata": {
    "collapsed": true
   },
   "outputs": [],
   "source": [
    "!kill -9 $(ps aux | grep tinyverse | awk '{print $2}') #uncomment to hard kill all\n",
    "from tinyverse.database import Database\n",
    "db = Database()\n",
    "for key in db.redis.keys():\n",
    "    db.redis.delete(key)"
   ]
  }
 ],
 "metadata": {
  "anaconda-cloud": {},
  "kernelspec": {
   "display_name": "Python [conda root]",
   "language": "python",
   "name": "conda-root-py"
  },
  "language_info": {
   "codemirror_mode": {
    "name": "ipython",
    "version": 3
   },
   "file_extension": ".py",
   "mimetype": "text/x-python",
   "name": "python",
   "nbconvert_exporter": "python",
   "pygments_lexer": "ipython3",
   "version": "3.5.2"
  }
 },
 "nbformat": 4,
 "nbformat_minor": 1
}
